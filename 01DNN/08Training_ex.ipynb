{
 "cells": [
  {
   "cell_type": "markdown",
   "metadata": {
    "colab_type": "text",
    "id": "1gRj-x7h332N"
   },
   "source": [
    "# Training Neural Networks\n",
    "\n",
    "Neural Network를 정의하고 훈련하여 MNIST 데이터 셋으로부터 손글씨 숫자를 인식하도록 훈련(train)하자.\n",
    "\n",
    "<img src=\"../assets/function_approx.png\" width=500px>\n",
    "\n",
    "\n",
    "훈련 데이터로 신경망의 parameter (=weights,bias)를 우리가 원하는 답에 가깝게 근사하도록 해야 한다.\n",
    "\n",
    "이러한 parameters를 찾기 위해서,loss function (=cost function)를 사용한다. 회귀문제에서 loss 함수는 mean squared loss를 사용하고 분류 문제를 위해서는 cross entropy를 주로 활용한다.\n",
    "\n",
    "예를 들면 regression문제에서 사용되는 mean squared loss는 다음과 같다.\n",
    "\n",
    "$$\n",
    "\\large \\ell = \\frac{1}{2n}\\sum_i^n{\\left(y_i - \\hat{y}_i\\right)^2}\n",
    "$$\n",
    "\n",
    "$n$ training examples의 갯수이다. $y_i$ 는 데이터의 true labels이고 $\\hat{y}_i$ 는 predicted labels이다.\n",
    "\n",
    "\n",
    "신경망의 학습 목표는 이러한 loss를 최소화하는 parameter를 찾는 것에 있다. 이러한 과정은 **gradient descent** 알고리즘을 활용한다. gradient 는 어떤 한점에서 loss function의 기울기를 말하고 이것은 해당 loss를 가장 빠르게 감소할수 있는 방향과 크기를 나타낸다. loss를 최소화하는 방향으로 진행하는 학습은 높은 산을 내려가는 방법과 비교할 수 있다.\n",
    "\n",
    "\n",
    "<img src='../assets/gradient_descent.png' width=350px>"
   ]
  },
  {
   "cell_type": "markdown",
   "metadata": {
    "colab_type": "text",
    "id": "C-bEg-Zz4Q7z"
   },
   "source": [
    "## Backpropagation\n",
    "\n",
    "깊이가 깊은 multilayer neural network에서는 gradient를 계산하기 쉽지 않다. multilayer networks를 훈련하기 위한 다양한 연구가 진행되어 왔다.\n",
    "\n",
    "backpropagation을 이해하기 쉽도록 2 layer network의 computational graph로 표현하면 다음과 같다.\n",
    "\n",
    "<img src='../assets/backprop_diagram.png' width=550px>\n",
    "\n",
    "forward pass는 network에서 데이터가 bottom 에서 top으로 이동하는 방향이다. 그리고 최종적으로 loss $\\ell$을 계산한다. 훈련의 목적은 loss를 최소화하는 weights 와 biases 를 찾는 것이다.\n",
    "\n",
    "gradient descent로 weight를 훈련시키기 위해, loss를 backwards로 전파한다. multilayer networks를 훈련하기 위한 방법이 **backpropagation**  이다. 궁극적으로 backpropagation은 합성함수 미분에서 chain rule를 구현하는 것이다. \n",
    "\n",
    "$$\n",
    "\\large \\frac{\\partial \\ell}{\\partial W_1} = \\frac{\\partial L_1}{\\partial W_1} \\frac{\\partial S}{\\partial L_1} \\frac{\\partial L_2}{\\partial S} \\frac{\\partial \\ell}{\\partial L_2}\n",
    "$$\n",
    "\n",
    "**Note:** \n",
    "\n",
    "weights를 업데이트하기 위해 learning rate $\\alpha$ 를 사용한다. \n",
    "\n",
    "$$\n",
    "\\large W^\\prime_1 = W_1 - \\alpha \\frac{\\partial \\ell}{\\partial W_1}\n",
    "$$\n",
    "\n",
    "learning rate $\\alpha$ 은 weight를 update하는 steps을 조절하여 loss를 최소화하는 값에 수렴하도록 한다. "
   ]
  },
  {
   "cell_type": "markdown",
   "metadata": {
    "colab_type": "text",
    "id": "worDfYepJH6j"
   },
   "source": [
    "## Import Resources"
   ]
  },
  {
   "cell_type": "code",
   "execution_count": 1,
   "metadata": {
    "colab": {},
    "colab_type": "code",
    "id": "y_QELN1lsZZz"
   },
   "outputs": [],
   "source": [
    "import warnings\n",
    "warnings.filterwarnings('ignore')"
   ]
  },
  {
   "cell_type": "code",
   "execution_count": 2,
   "metadata": {
    "colab": {},
    "colab_type": "code",
    "id": "jFdhxHwr57Yn"
   },
   "outputs": [],
   "source": [
    "%matplotlib inline\n",
    "%config InlineBackend.figure_format = 'retina'\n",
    "\n",
    "import numpy as np\n",
    "import matplotlib.pyplot as plt\n",
    "\n",
    "import tensorflow as tf"
   ]
  },
  {
   "cell_type": "code",
   "execution_count": 3,
   "metadata": {
    "colab": {},
    "colab_type": "code",
    "id": "dr8a1QccsZZ9"
   },
   "outputs": [],
   "source": [
    "import logging\n",
    "logger = tf.get_logger()\n",
    "logger.setLevel(logging.ERROR)"
   ]
  },
  {
   "cell_type": "code",
   "execution_count": 4,
   "metadata": {
    "colab": {},
    "colab_type": "code",
    "id": "yCtUH8paXqBQ"
   },
   "outputs": [
    {
     "name": "stdout",
     "output_type": "stream",
     "text": [
      "Using:\n",
      "TensorFlow version: 2.3.0\n",
      "tf.keras version: 2.4.0\n",
      "GPU device not found. Running on CPU\n"
     ]
    }
   ],
   "source": [
    "print('Using:')\n",
    "print('TensorFlow version:', tf.__version__)\n",
    "print('tf.keras version:', tf.keras.__version__)\n",
    "print(' Running on GPU' if tf.test.is_gpu_available() else 'GPU device not found. Running on CPU')"
   ]
  },
  {
   "cell_type": "markdown",
   "metadata": {
    "colab_type": "text",
    "id": "3zQV8MLaJOjN"
   },
   "source": [
    "## Load the Dataset"
   ]
  },
  {
   "cell_type": "code",
   "execution_count": 5,
   "metadata": {
    "colab": {},
    "colab_type": "code",
    "id": "Att74swb7Ol0"
   },
   "outputs": [],
   "source": [
    "(x_train, y_train), (x_test, y_test) = tf.keras.datasets.mnist.load_data()"
   ]
  },
  {
   "cell_type": "markdown",
   "metadata": {
    "colab_type": "text",
    "id": "IiSe5BPrJquE"
   },
   "source": [
    "## Create Pipeline"
   ]
  },
  {
   "cell_type": "code",
   "execution_count": 6,
   "metadata": {
    "colab": {},
    "colab_type": "code",
    "id": "9r4EMOdT9pM3"
   },
   "outputs": [],
   "source": [
    "def normalize(image, label):\n",
    "    image = tf.cast(image, tf.float32)\n",
    "    image /= 255\n",
    "    return image, label\n",
    "\n",
    "num_training_examples = x_train.shape[0]\n",
    "\n",
    "X_train = x_train.reshape(num_training_examples, 28, 28,1)\n",
    "training_set = tf.data.Dataset.from_tensor_slices((X_train, y_train))\n",
    "\n",
    "batch_size = 64\n",
    "\n",
    "training_batches = training_set.cache().shuffle(num_training_examples//4).batch(batch_size).map(normalize).prefetch(1)"
   ]
  },
  {
   "cell_type": "markdown",
   "metadata": {
    "colab_type": "text",
    "id": "K9SC4gnUJucy"
   },
   "source": [
    "## Build the Model"
   ]
  },
  {
   "cell_type": "code",
   "execution_count": 7,
   "metadata": {
    "colab": {},
    "colab_type": "code",
    "id": "Mo2DfMVvAdbd"
   },
   "outputs": [],
   "source": [
    "model = tf.keras.Sequential([\n",
    "        tf.keras.layers.Flatten(input_shape = (28, 28, 1)),\n",
    "        tf.keras.layers.Dense(128, activation = 'relu'),\n",
    "        tf.keras.layers.Dense(64, activation = 'relu'),\n",
    "        tf.keras.layers.Dense(10, activation = 'softmax')\n",
    "])"
   ]
  },
  {
   "cell_type": "markdown",
   "metadata": {
    "colab_type": "text",
    "id": "5TCpaAlcKCDB"
   },
   "source": [
    "## Getting the Model Ready For Training\n",
    "\n",
    "model을 훈련하기 위해 `.compile` method의 parameter를 설정해야 한다.\n",
    "\n",
    "\n",
    "* **Optimizer:** training에서 weight를 update할 때 사용할 algorithm을 설정한다. 이 예제에서는 [`adam`](http://arxiv.org/abs/1412.6980) optimizer를 사용한다.  `tf.keras` 에서 제공하는 전체 optimizer 목록은 다음 링크를 확인한다.[optimizers documentation](https://www.tensorflow.org/versions/r2.0/api_docs/python/tf/keras/optimizers#classes).\n",
    "\n",
    "\n",
    "* **Loss Function:**  loss function은 prediction과 실제 data의 label과의 차이를 계산한다. 이 예제에서는 `sparse_categorical_crossentropy` loss function를 사용한다. `sparse_categorical_crossentropy` loss function는 labels 이 정수인 경우에 사용한다. 그리고 `categorical_crossentropy` loss function은 one-hot encoded labels에서 사용한다. `tf.keras`에서 제공하는 loss functions 의 전체 목록은 다음 링크에서 확인한다. [losses documentation](https://www.tensorflow.org/versions/r2.0/api_docs/python/tf/keras/losses#classes).\n",
    "\n",
    "\n",
    "* **Metrics:** metrics 는 모형을 훈련하는 과정에서 모형을 평가하는데 사용된다.  `accuracy`는 분류 모형의 정확도를 나타내는 지표이다. 그외의 metrics는 문서를 참조한다. [metrics documentation](https://www.tensorflow.org/versions/r2.0/api_docs/python/tf/keras/metrics#classes).\n",
    "\n",
    "그외에 사용가능한 옵션에 대해서는 텐서플로 매뉴얼 문서를 참조하여 확인한다. [TensorFlow documentation](https://www.tensorflow.org/versions/r2.0/api_docs/python/tf/keras/Model#compile)"
   ]
  },
  {
   "cell_type": "code",
   "execution_count": 8,
   "metadata": {
    "colab": {},
    "colab_type": "code",
    "id": "jYv3pv5-InR1"
   },
   "outputs": [],
   "source": [
    "model.compile(optimizer='adam',\n",
    "              loss='sparse_categorical_crossentropy',\n",
    "              metrics=['accuracy'])"
   ]
  },
  {
   "cell_type": "markdown",
   "metadata": {
    "colab_type": "text",
    "id": "Y5CjYa8ES3OI"
   },
   "source": [
    "## Taking a Look at the Loss and Accuracy Before Training\n",
    "\n",
    "model은 훈련되기 전에 random weight를 사용한다. 일단 batch를 1개 가져와서 `loss` 와 `accuracy` 를 확인해 본다. `.evaluate(data, true_labels)` method를 사용하여 loss와 accuracy를 계산할 수 있다.\n"
   ]
  },
  {
   "cell_type": "code",
   "execution_count": 9,
   "metadata": {
    "colab": {},
    "colab_type": "code",
    "id": "u_7aijzvJQZ7"
   },
   "outputs": [
    {
     "name": "stdout",
     "output_type": "stream",
     "text": [
      "2/2 [==============================] - 0s 1ms/step - loss: 2.3702 - accuracy: 0.1406\n",
      "\n",
      "Loss before training: 2.370\n",
      "Accuracy before training: 14.062%\n"
     ]
    }
   ],
   "source": [
    "for image_batch, label_batch in training_batches.take(1):\n",
    "    loss, accuracy = model.evaluate(image_batch, label_batch)\n",
    "\n",
    "print('\\nLoss before training: {:,.3f}'.format(loss))\n",
    "print('Accuracy before training: {:.3%}'.format(accuracy))"
   ]
  },
  {
   "cell_type": "markdown",
   "metadata": {
    "colab_type": "text",
    "id": "zvsfbLEMZjZ5"
   },
   "source": [
    "## Training the Model\n",
    "\n",
    "training set을 사용하여 model을 훈련한다. batch size 로 나누어 전체 데이터를 훈련하는 단위를 *epoch*이라고 한다. `.fit` method를 사용하여 정해진 epoch만큼 훈련을 수행한다."
   ]
  },
  {
   "cell_type": "code",
   "execution_count": 10,
   "metadata": {
    "colab": {},
    "colab_type": "code",
    "id": "Z-CgmnKBZDjq"
   },
   "outputs": [
    {
     "name": "stdout",
     "output_type": "stream",
     "text": [
      "Epoch 1/5\n",
      "938/938 [==============================] - 1s 1ms/step - loss: 0.2770 - accuracy: 0.9213\n",
      "Epoch 2/5\n",
      "938/938 [==============================] - 1s 1ms/step - loss: 0.1152 - accuracy: 0.9655\n",
      "Epoch 3/5\n",
      "938/938 [==============================] - 1s 1ms/step - loss: 0.0795 - accuracy: 0.9758\n",
      "Epoch 4/5\n",
      "938/938 [==============================] - 1s 1ms/step - loss: 0.0613 - accuracy: 0.9815\n",
      "Epoch 5/5\n",
      "938/938 [==============================] - 1s 1ms/step - loss: 0.0476 - accuracy: 0.9848\n"
     ]
    }
   ],
   "source": [
    "EPOCHS = 5\n",
    "\n",
    "history = model.fit(training_batches, epochs = EPOCHS)"
   ]
  },
  {
   "cell_type": "markdown",
   "metadata": {
    "colab_type": "text",
    "id": "IFgG_WfUjCic"
   },
   "source": [
    "`.fit` method 는 `History` object를 리턴한다. `History` object에는 훈련중에 accuracy 와 loss values를 기록한다.\n",
    "\n",
    "훈련된 모형을 사용하여 predictions을 실행할 수 있다."
   ]
  },
  {
   "cell_type": "code",
   "execution_count": 11,
   "metadata": {
    "colab": {},
    "colab_type": "code",
    "id": "ghr7z-SnctRw"
   },
   "outputs": [
    {
     "data": {
      "image/png": "[encoded data removed]",
      "text/plain": [
       "<Figure size 432x648 with 2 Axes>"
      ]
     },
     "metadata": {
      "image/png": {
       "height": 235,
       "width": 424
      },
      "needs_background": "light"
     },
     "output_type": "display_data"
    }
   ],
   "source": [
    "for image_batch, label_batch in training_batches.take(1):\n",
    "    ps = model.predict(image_batch)\n",
    "    first_image = image_batch.numpy().squeeze()[0]\n",
    "  \n",
    "  \n",
    "fig, (ax1, ax2) = plt.subplots(figsize=(6,9), ncols=2)\n",
    "ax1.imshow(first_image, cmap = plt.cm.binary)\n",
    "ax1.axis('off')\n",
    "ax2.barh(np.arange(10), ps[0])\n",
    "ax2.set_aspect(0.1)\n",
    "ax2.set_yticks(np.arange(10))\n",
    "ax2.set_yticklabels(np.arange(10))\n",
    "ax2.set_title('Class Probability')\n",
    "ax2.set_xlim(0, 1.1)\n",
    "plt.tight_layout()"
   ]
  },
  {
   "cell_type": "markdown",
   "metadata": {},
   "source": [
    "훈련된 모형을 사용하여 다시 evaluate 해본다."
   ]
  },
  {
   "cell_type": "code",
   "execution_count": 12,
   "metadata": {
    "colab": {},
    "colab_type": "code",
    "id": "rFZKBfTgfPVy"
   },
   "outputs": [
    {
     "name": "stdout",
     "output_type": "stream",
     "text": [
      "2/2 [==============================] - 0s 1ms/step - loss: 0.0193 - accuracy: 1.0000\n",
      "\n",
      "Loss after training: 0.019\n",
      "Accuracy after training: 100.000%\n"
     ]
    }
   ],
   "source": [
    "for image_batch, label_batch in training_batches.take(1):\n",
    "    loss, accuracy = model.evaluate(image_batch, label_batch)\n",
    "\n",
    "print('\\nLoss after training: {:,.3f}'.format(loss))\n",
    "print('Accuracy after training: {:.3%}'.format(accuracy))"
   ]
  },
  {
   "cell_type": "markdown",
   "metadata": {
    "colab_type": "text",
    "id": "Wa5_vwtotNeg"
   },
   "source": [
    "> **실습하기:** 다음과 같은 network 모형을 생성하시오. \n",
    "* input units : 784 \n",
    "* 1번째 hidden layer units : 128 \n",
    "* 2번째 hidden layer unit 64 \n",
    "* 세번째 hidden layer units : 32 \n",
    "* 마지막 output layer units : 10 . U\n",
    "\n",
    "> 모든 hidden layer에 ReLu activation function를 사용한다. 마지막 output layer에서는 softmax activation function를 사용한다. \n",
    "\n",
    "> model compile에서 optimizer는 `adam` optimizer, loss 함수로는 `sparse_categorical_crossentropy` loss function를 사용하고 metric은 `accuracy`로 설정한다. 마지막으로 1개의 batch를 가져와서 훈련되지 않은 모형의 loss 와 accuracy를 화면에 출력하시오."
   ]
  },
  {
   "cell_type": "code",
   "execution_count": null,
   "metadata": {
    "colab": {},
    "colab_type": "code",
    "id": "txuSaeuirvgc"
   },
   "outputs": [],
   "source": [
    "## Solution\n",
    "\n",
    "\n",
    "print('\\nLoss before training: {:,.3f}'.format(loss))\n",
    "print('Accuracy before training: {:.3%}'.format(accuracy))"
   ]
  },
  {
   "cell_type": "markdown",
   "metadata": {
    "colab_type": "text",
    "id": "bgdaQEVUumxo"
   },
   "source": [
    "> **실습하기:** 5 epochs 으로 모형을 훈련한다. 훈련된 모형에 1개 batch를 사용하여 loss 와 accuracy를 출력해 본다."
   ]
  },
  {
   "cell_type": "code",
   "execution_count": null,
   "metadata": {
    "colab": {},
    "colab_type": "code",
    "id": "HzxZtgBDt3Ak"
   },
   "outputs": [],
   "source": [
    "## Solution\n",
    "\n",
    "\n",
    "print('\\nLoss after training: {:,.3f}'.format(loss))\n",
    "print('Accuracy after training: {:.3%}'.format(accuracy))"
   ]
  },
  {
   "cell_type": "markdown",
   "metadata": {
    "colab_type": "text",
    "id": "CfBqrMikvVCY"
   },
   "source": [
    "> **실습하기:** 임의의 훈련이미지으로 prediction을 수행하고 각 class 에 예측 확률을 시각화하여 보시오."
   ]
  },
  {
   "cell_type": "code",
   "execution_count": null,
   "metadata": {
    "colab": {},
    "colab_type": "code",
    "id": "NOwMUqYzvKtK"
   },
   "outputs": [],
   "source": [
    "## Solution\n"
   ]
  },
  {
   "cell_type": "code",
   "execution_count": null,
   "metadata": {
    "colab": {},
    "colab_type": "code",
    "id": "am0SvU9KWAD3"
   },
   "outputs": [],
   "source": []
  }
 ],
 "metadata": {
  "accelerator": "GPU",
  "colab": {
   "collapsed_sections": [],
   "name": "Part 3 - Training Neural Networks (Solution).ipynb",
   "provenance": []
  },
  "kernelspec": {
   "display_name": "Python 3",
   "language": "python",
   "name": "python3"
  },
  "language_info": {
   "codemirror_mode": {
    "name": "ipython",
    "version": 3
   },
   "file_extension": ".py",
   "mimetype": "text/x-python",
   "name": "python",
   "nbconvert_exporter": "python",
   "pygments_lexer": "ipython3",
   "version": "3.8.8"
  }
 },
 "nbformat": 4,
 "nbformat_minor": 1
}
