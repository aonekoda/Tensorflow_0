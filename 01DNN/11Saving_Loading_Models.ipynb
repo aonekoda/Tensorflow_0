{
 "cells": [
  {
   "cell_type": "markdown",
   "metadata": {
    "colab_type": "text",
    "id": "k7sePAkWpLJV"
   },
   "source": [
    "# Saving and Loading Models\n",
    "\n",
    "TensorFlow에서 모형을 저장하고 불러오는 방법을 알아본다."
   ]
  },
  {
   "cell_type": "markdown",
   "metadata": {
    "colab_type": "text",
    "id": "tD856SqhH4JK"
   },
   "source": [
    "## Import Resources"
   ]
  },
  {
   "cell_type": "code",
   "execution_count": 1,
   "metadata": {
    "colab": {},
    "colab_type": "code",
    "id": "DrJjfWzzi_hA"
   },
   "outputs": [],
   "source": [
    "import warnings\n",
    "warnings.filterwarnings('ignore')"
   ]
  },
  {
   "cell_type": "code",
   "execution_count": 2,
   "metadata": {
    "colab": {},
    "colab_type": "code",
    "id": "Hsu5egUUqPg9"
   },
   "outputs": [],
   "source": [
    "%matplotlib inline\n",
    "%config InlineBackend.figure_format = 'retina'\n",
    "\n",
    "import time\n",
    "import numpy as np\n",
    "import matplotlib.pyplot as plt\n",
    "\n",
    "import tensorflow as tf\n"
   ]
  },
  {
   "cell_type": "code",
   "execution_count": 3,
   "metadata": {
    "colab": {},
    "colab_type": "code",
    "id": "EdZ26U_ei_hK"
   },
   "outputs": [],
   "source": [
    "import logging\n",
    "logger = tf.get_logger()\n",
    "logger.setLevel(logging.ERROR)"
   ]
  },
  {
   "cell_type": "code",
   "execution_count": 4,
   "metadata": {
    "colab": {
     "base_uri": "https://localhost:8080/",
     "height": 85
    },
    "colab_type": "code",
    "id": "BqsrWYDKp4Fd",
    "outputId": "5fe90392-c56f-423f-bc89-b9fc985feecf"
   },
   "outputs": [
    {
     "name": "stdout",
     "output_type": "stream",
     "text": [
      "Using:\n",
      "TensorFlow version: 2.3.1\n",
      "tf.keras version: 2.4.0\n",
      "GPU device not found. Running on CPU\n"
     ]
    }
   ],
   "source": [
    "print('Using:')\n",
    "print('TensorFlow version:', tf.__version__)\n",
    "print('tf.keras version:', tf.keras.__version__)\n",
    "print('Running on GPU' if tf.test.is_gpu_available() else 'GPU device not found. Running on CPU')"
   ]
  },
  {
   "cell_type": "markdown",
   "metadata": {
    "colab_type": "text",
    "id": "dAe81nXoICzC"
   },
   "source": [
    "## Load the Dataset"
   ]
  },
  {
   "cell_type": "code",
   "execution_count": 5,
   "metadata": {},
   "outputs": [],
   "source": [
    "(x_train, y_train), (x_test, y_test) = tf.keras.datasets.fashion_mnist.load_data()"
   ]
  },
  {
   "cell_type": "code",
   "execution_count": 6,
   "metadata": {},
   "outputs": [],
   "source": [
    "# Preprocess the data (these are NumPy arrays)\n",
    "x_train = x_train.reshape(60000, 784).astype(\"float32\") / 255\n",
    "x_test = x_test.reshape(10000, 784).astype(\"float32\") / 255\n",
    "\n",
    "y_train = y_train.astype(\"float32\")\n",
    "y_test = y_test.astype(\"float32\")"
   ]
  },
  {
   "cell_type": "code",
   "execution_count": 7,
   "metadata": {},
   "outputs": [],
   "source": [
    "# Reserve 10,000 samples for validation\n",
    "x_val = x_train[-10000:]\n",
    "y_val = y_train[-10000:]\n",
    "x_train = x_train[:-10000]\n",
    "y_train = y_train[:-10000]"
   ]
  },
  {
   "cell_type": "markdown",
   "metadata": {
    "colab_type": "text",
    "id": "z1WhOLC7Ii3D"
   },
   "source": [
    "## Explore the Dataset"
   ]
  },
  {
   "cell_type": "code",
   "execution_count": 8,
   "metadata": {},
   "outputs": [
    {
     "name": "stdout",
     "output_type": "stream",
     "text": [
      "There are 50,000 images in the training set\n",
      "There are 10,000 images in the validation set\n",
      "There are 10,000 images in the test set\n"
     ]
    }
   ],
   "source": [
    "num_training_examples = len(x_train)\n",
    "num_validation_examples = len(x_val)\n",
    "num_test_examples = len(x_test)\n",
    "\n",
    "print('There are {:,} images in the training set'.format(num_training_examples))\n",
    "print('There are {:,} images in the validation set'.format(num_validation_examples))\n",
    "print('There are {:,} images in the test set'.format(num_test_examples))"
   ]
  },
  {
   "cell_type": "code",
   "execution_count": 9,
   "metadata": {},
   "outputs": [],
   "source": [
    "x_train = x_train.reshape(num_training_examples, 28, 28,1)\n",
    "x_val = x_val.reshape(num_validation_examples, 28, 28,1)\n",
    "x_test = x_test.reshape(num_test_examples, 28, 28,1)\n",
    "\n",
    "training_set = tf.data.Dataset.from_tensor_slices((x_train, y_train))\n",
    "validation_set = tf.data.Dataset.from_tensor_slices((x_val, y_val))\n",
    "test_set = tf.data.Dataset.from_tensor_slices((x_test, y_test))"
   ]
  },
  {
   "cell_type": "code",
   "execution_count": 10,
   "metadata": {
    "colab": {},
    "colab_type": "code",
    "id": "RLMJCpppq43U"
   },
   "outputs": [],
   "source": [
    "class_names = ['T-shirt/top', 'Trouser', 'Pullover', 'Dress', 'Coat', \n",
    "               'Sandal',      'Shirt',   'Sneaker',  'Bag',   'Ankle boot']"
   ]
  },
  {
   "cell_type": "code",
   "execution_count": 11,
   "metadata": {
    "colab": {
     "base_uri": "https://localhost:8080/",
     "height": 280
    },
    "colab_type": "code",
    "id": "PeU9nb_xqW98",
    "outputId": "7e35ce36-2589-4b3e-b2bf-313eaa2414f0"
   },
   "outputs": [
    {
     "data": {
      "image/png": "[encoded data removed]",
      "text/plain": [
       "<Figure size 432x288 with 2 Axes>"
      ]
     },
     "metadata": {
      "image/png": {
       "height": 263,
       "width": 302
      },
      "needs_background": "light"
     },
     "output_type": "display_data"
    }
   ],
   "source": [
    "for image, label in training_set.take(1):\n",
    "    image = image.numpy().squeeze()\n",
    "    label = label.numpy()\n",
    "\n",
    "plt.imshow(image, cmap=plt.cm.binary)\n",
    "plt.title(class_names[int(label)])\n",
    "plt.colorbar()\n",
    "plt.show()"
   ]
  },
  {
   "cell_type": "markdown",
   "metadata": {
    "colab_type": "text",
    "id": "k5rUDqxBIt5N"
   },
   "source": [
    "## Create Pipeline"
   ]
  },
  {
   "cell_type": "code",
   "execution_count": 12,
   "metadata": {
    "colab": {},
    "colab_type": "code",
    "id": "Ec3uphcyci3c"
   },
   "outputs": [],
   "source": [
    "def normalize(image, label):\n",
    "    image = tf.cast(image, tf.float32)\n",
    "    image /= 255\n",
    "    return image, label\n",
    "\n",
    "batch_size = 64\n",
    "\n",
    "training_batches = training_set.cache().shuffle(num_training_examples//4).batch(batch_size).map(normalize).prefetch(1)\n",
    "validation_batches = validation_set.cache().batch(batch_size).map(normalize).prefetch(1)\n",
    "testing_batches = test_set.cache().batch(batch_size).map(normalize).prefetch(1)"
   ]
  },
  {
   "cell_type": "markdown",
   "metadata": {
    "colab_type": "text",
    "id": "ySQuJ-iPqNoR"
   },
   "source": [
    "## Build and Train the Model\n",
    "\n"
   ]
  },
  {
   "cell_type": "code",
   "execution_count": 13,
   "metadata": {
    "colab": {
     "base_uri": "https://localhost:8080/",
     "height": 425
    },
    "colab_type": "code",
    "id": "47Vnu0KJMqwc",
    "outputId": "f1abd9d1-db9e-4bfd-99c7-d4376adb8745"
   },
   "outputs": [
    {
     "name": "stdout",
     "output_type": "stream",
     "text": [
      "Model: \"sequential\"\n",
      "_________________________________________________________________\n",
      "Layer (type)                 Output Shape              Param #   \n",
      "=================================================================\n",
      "flatten (Flatten)            (None, 784)               0         \n",
      "_________________________________________________________________\n",
      "dense (Dense)                (None, 512)               401920    \n",
      "_________________________________________________________________\n",
      "dropout (Dropout)            (None, 512)               0         \n",
      "_________________________________________________________________\n",
      "dense_1 (Dense)              (None, 256)               131328    \n",
      "_________________________________________________________________\n",
      "dropout_1 (Dropout)          (None, 256)               0         \n",
      "_________________________________________________________________\n",
      "dense_2 (Dense)              (None, 128)               32896     \n",
      "_________________________________________________________________\n",
      "dropout_2 (Dropout)          (None, 128)               0         \n",
      "_________________________________________________________________\n",
      "dense_3 (Dense)              (None, 10)                1290      \n",
      "=================================================================\n",
      "Total params: 567,434\n",
      "Trainable params: 567,434\n",
      "Non-trainable params: 0\n",
      "_________________________________________________________________\n"
     ]
    }
   ],
   "source": [
    "layer_neurons = [512, 256, 128]\n",
    "\n",
    "dropout_rate = 0.5\n",
    "\n",
    "model = tf.keras.Sequential()\n",
    "\n",
    "model.add(tf.keras.layers.Flatten(input_shape=(28,28,1)))\n",
    "\n",
    "for neurons in layer_neurons:\n",
    "    model.add(tf.keras.layers.Dense(neurons, activation = 'relu'))\n",
    "    model.add(tf.keras.layers.Dropout(dropout_rate))\n",
    "\n",
    "model.add(tf.keras.layers.Dense(10, activation = 'softmax'))\n",
    "\n",
    "model.summary()"
   ]
  },
  {
   "cell_type": "code",
   "execution_count": 14,
   "metadata": {
    "colab": {
     "base_uri": "https://localhost:8080/",
     "height": 153
    },
    "colab_type": "code",
    "id": "1qLJ-cAwnmFD",
    "outputId": "32be0a8a-5cfb-473f-872c-e09da279eae5"
   },
   "outputs": [
    {
     "name": "stdout",
     "output_type": "stream",
     "text": [
      "Epoch 1/4\n",
      "782/782 [==============================] - 3s 4ms/step - loss: 1.0727 - accuracy: 0.5776 - val_loss: 0.6267 - val_accuracy: 0.7523\n",
      "Epoch 2/4\n",
      "782/782 [==============================] - 3s 4ms/step - loss: 0.6573 - accuracy: 0.7598 - val_loss: 0.5375 - val_accuracy: 0.8028\n",
      "Epoch 3/4\n",
      "782/782 [==============================] - 3s 4ms/step - loss: 0.5740 - accuracy: 0.7957 - val_loss: 0.4772 - val_accuracy: 0.8214\n",
      "Epoch 4/4\n",
      "782/782 [==============================] - 3s 3ms/step - loss: 0.5286 - accuracy: 0.8144 - val_loss: 0.4467 - val_accuracy: 0.8340\n"
     ]
    }
   ],
   "source": [
    "model.compile(optimizer='adam',\n",
    "              loss='sparse_categorical_crossentropy',\n",
    "              metrics=['accuracy'])\n",
    "\n",
    "EPOCHS = 4\n",
    "\n",
    "history = model.fit(training_batches,\n",
    "                    epochs=EPOCHS,\n",
    "                    validation_data=validation_batches)"
   ]
  },
  {
   "cell_type": "markdown",
   "metadata": {
    "colab_type": "text",
    "id": "jseIvfe2xb56"
   },
   "source": [
    "## Saving and Loading Models\n",
    "\n",
    "TensorFlow 에서는 모형을 2가지 형태로 저장할 수 있다. 하나는 TensorFlow의 SavedModel format 이고 다른 하나는 HDF5 files format으로 Keras models type 이다.\n",
    "\n",
    "### Saving and Loading Models in HDF5 Format\n",
    "\n",
    " `.save(filepath)` method를 사용하여 모형을 저장한다. 예를 들면 다음과 같다.\n",
    "\n",
    "```python\n",
    "my_model.save('./test_model.h5')\n",
    "```\n",
    "\n",
    "파일의 확장자는 반드시 `.h5` 으로 한다. \n",
    "\n",
    " HDF5 file 은 다음과 같은 내용을 저장한다.:\n",
    "\n",
    "* model의 구조.\n",
    "* model의 weight values\n",
    "* model의 훈련과 관련된 설정 `compile` method의 parameter값.\n",
    "* optimizer에 대한 정보\n",
    "\n",
    "\n",
    "기본적으로 `.save()` method는 에러 없이 기존의 파일을 덮어쓰기 한다.`overwrite=False` 을 설정하면 파일 덮어쓰기 전에 prompt한다."
   ]
  },
  {
   "cell_type": "code",
   "execution_count": 15,
   "metadata": {
    "colab": {},
    "colab_type": "code",
    "id": "G1dOvNRvrhNa"
   },
   "outputs": [],
   "source": [
    "t = time.time()\n",
    "\n",
    "saved_keras_model_filepath = './{}.h5'.format(int(t))\n",
    "\n",
    "model.save(saved_keras_model_filepath)"
   ]
  },
  {
   "cell_type": "markdown",
   "metadata": {
    "colab_type": "text",
    "id": "lGNRBb1puSRg"
   },
   "source": [
    "일단 저장된 모형은 `tf.keras.models.load_model(filepath)` 을 통해 불러들인다. "
   ]
  },
  {
   "cell_type": "code",
   "execution_count": 16,
   "metadata": {
    "colab": {
     "base_uri": "https://localhost:8080/",
     "height": 547
    },
    "colab_type": "code",
    "id": "akaAVE2js5d0",
    "outputId": "84301998-a6c3-4a55-c5f1-f76d086290bf"
   },
   "outputs": [
    {
     "name": "stdout",
     "output_type": "stream",
     "text": [
      "Model: \"sequential\"\n",
      "_________________________________________________________________\n",
      "Layer (type)                 Output Shape              Param #   \n",
      "=================================================================\n",
      "flatten (Flatten)            (None, 784)               0         \n",
      "_________________________________________________________________\n",
      "dense (Dense)                (None, 512)               401920    \n",
      "_________________________________________________________________\n",
      "dropout (Dropout)            (None, 512)               0         \n",
      "_________________________________________________________________\n",
      "dense_1 (Dense)              (None, 256)               131328    \n",
      "_________________________________________________________________\n",
      "dropout_1 (Dropout)          (None, 256)               0         \n",
      "_________________________________________________________________\n",
      "dense_2 (Dense)              (None, 128)               32896     \n",
      "_________________________________________________________________\n",
      "dropout_2 (Dropout)          (None, 128)               0         \n",
      "_________________________________________________________________\n",
      "dense_3 (Dense)              (None, 10)                1290      \n",
      "=================================================================\n",
      "Total params: 567,434\n",
      "Trainable params: 567,434\n",
      "Non-trainable params: 0\n",
      "_________________________________________________________________\n"
     ]
    }
   ],
   "source": [
    "reloaded_keras_model = tf.keras.models.load_model(saved_keras_model_filepath)\n",
    "\n",
    "reloaded_keras_model.summary()"
   ]
  },
  {
   "cell_type": "markdown",
   "metadata": {
    "colab_type": "text",
    "id": "xWihP1oMjNeF"
   },
   "source": [
    "`reloaded_keras_model`은 원래 `model` 과 같은 복사본이 된다. 다음과 같은 명령어로 Prediction 을 수행할 수 있다."
   ]
  },
  {
   "cell_type": "code",
   "execution_count": 17,
   "metadata": {
    "colab": {
     "base_uri": "https://localhost:8080/",
     "height": 34
    },
    "colab_type": "code",
    "id": "gLQsw7QVkElc",
    "outputId": "0d00e16b-9fdd-4d34-b9ab-96956ddbf5a5"
   },
   "outputs": [
    {
     "name": "stdout",
     "output_type": "stream",
     "text": [
      "0.0\n"
     ]
    }
   ],
   "source": [
    "for image_batch, label_batch in testing_batches.take(1):\n",
    "    prediction_1 = model.predict(image_batch)\n",
    "    prediction_2 = reloaded_keras_model.predict(image_batch)\n",
    "    difference = np.abs(prediction_1 - prediction_2)\n",
    "    print(difference.max())"
   ]
  },
  {
   "cell_type": "markdown",
   "metadata": {
    "colab_type": "text",
    "id": "K-dDOY0BmYhs"
   },
   "source": [
    "결과가 0.0 인것은 같은 이미지에 대해 같은 prediction을 수행한 결과이다."
   ]
  },
  {
   "cell_type": "markdown",
   "metadata": {
    "colab_type": "text",
    "id": "lxHdz18pQUNV"
   },
   "source": [
    "### Saving and Loading TensorFlow SavedModels"
   ]
  },
  {
   "cell_type": "markdown",
   "metadata": {
    "colab_type": "text",
    "id": "OGtK83g2vVki"
   },
   "source": [
    "TensorFlow 의 **SavedModel** format로 모형을 저장하기 위해서 `tf.saved_model.save(model, export_dir)` function을 사용한다. 예를 들면 다음과 같다.\n",
    "\n",
    "```python\n",
    "tf.saved_model.save(my_model, './saved_models')\n",
    "```\n",
    "\n",
    "주의할 것은 파일의 이름을 쓰는 것이 아니라 모형이 저장될 directory명을 쓴다는 것이다. \n",
    "왜냐면 SavedModels 은 단일한 file로 저장되는 것이 아니기 때문이다. `tf.saved_model.save()` function은 `assets` folder, `variables` folder 그리고 `saved_model.pb` 을 생성한다.\n",
    "\n",
    "SavedModel files 은 다음과 같은 내용을 포함한다:\n",
    "\n",
    "* model weights.\n",
    "* TensorFlow graph - prediction, training, evaluation에 사용된다.\n",
    "* model의 구조와 관련된 설정 정보\n"
   ]
  },
  {
   "cell_type": "code",
   "execution_count": 18,
   "metadata": {
    "colab": {
     "base_uri": "https://localhost:8080/",
     "height": 173
    },
    "colab_type": "code",
    "id": "V2C0F3luxzlI",
    "outputId": "80a362e5-008f-4f54-ffb5-0b5577b5c46b"
   },
   "outputs": [],
   "source": [
    "t = time.time()\n",
    "\n",
    "savedModel_directory = './{}'.format(int(t))\n",
    "\n",
    "tf.saved_model.save(model, savedModel_directory)"
   ]
  },
  {
   "cell_type": "markdown",
   "metadata": {
    "colab_type": "text",
    "id": "DBY1j0QEyjPi"
   },
   "source": [
    "SavedModel로 저장된 모형은 `tf.saved_model.load(export_dir)` 로 불러들일 수 있다. "
   ]
  },
  {
   "cell_type": "code",
   "execution_count": 19,
   "metadata": {
    "colab": {},
    "colab_type": "code",
    "id": "rRx2y2M4AtKl"
   },
   "outputs": [],
   "source": [
    "reloaded_SavedModel = tf.saved_model.load(savedModel_directory)"
   ]
  },
  {
   "cell_type": "markdown",
   "metadata": {
    "colab_type": "text",
    "id": "wJwmzT1gAwew"
   },
   "source": [
    "`tf.saved_model.load` 은 Keras object가 아니다. 따라서 `.fit`, `.predict`, `.summary` 등과 같은 methods를 사용할 수 없다. `reloaded_SavedModel` 로 Prediction을 수행하려면 Keras model로 re-load해야 한다.\n",
    "\n",
    "predictions을 수행하기 위해서 다음과 같이 사용한다.\n",
    "\n",
    "```python\n",
    "reloaded_SavedModel(image_batch, training=False)\n",
    "```\n"
   ]
  },
  {
   "cell_type": "code",
   "execution_count": 20,
   "metadata": {
    "colab": {
     "base_uri": "https://localhost:8080/",
     "height": 34
    },
    "colab_type": "code",
    "id": "ozMqD1ZoER5g",
    "outputId": "17769afa-1a1f-48c4-80e5-a389c80f4062"
   },
   "outputs": [
    {
     "name": "stdout",
     "output_type": "stream",
     "text": [
      "2.3841858e-07\n"
     ]
    }
   ],
   "source": [
    "for image_batch, label_batch in testing_batches.take(1):\n",
    "    prediction_1 = model.predict(image_batch)\n",
    "    prediction_2 = reloaded_SavedModel(image_batch, training=False).numpy()\n",
    "    difference = np.abs(prediction_1 - prediction_2)\n",
    "    print(difference.max())"
   ]
  },
  {
   "cell_type": "markdown",
   "metadata": {
    "colab_type": "text",
    "id": "3QZNNPkYFH3D"
   },
   "source": [
    "TensorFlow SavedModel로 부터 Keras model을 가져오기 위해서 `tf.keras.models.load_model` function을 사용한다. "
   ]
  },
  {
   "cell_type": "code",
   "execution_count": 21,
   "metadata": {
    "colab": {
     "base_uri": "https://localhost:8080/",
     "height": 425
    },
    "colab_type": "code",
    "id": "0BxFJcGLyMTD",
    "outputId": "a2fefa76-57b5-4a9e-8c05-b8a1ae7f31a2"
   },
   "outputs": [
    {
     "name": "stdout",
     "output_type": "stream",
     "text": [
      "Model: \"sequential\"\n",
      "_________________________________________________________________\n",
      "Layer (type)                 Output Shape              Param #   \n",
      "=================================================================\n",
      "flatten (Flatten)            (None, 784)               0         \n",
      "_________________________________________________________________\n",
      "dense (Dense)                (None, 512)               401920    \n",
      "_________________________________________________________________\n",
      "dropout (Dropout)            (None, 512)               0         \n",
      "_________________________________________________________________\n",
      "dense_1 (Dense)              (None, 256)               131328    \n",
      "_________________________________________________________________\n",
      "dropout_1 (Dropout)          (None, 256)               0         \n",
      "_________________________________________________________________\n",
      "dense_2 (Dense)              (None, 128)               32896     \n",
      "_________________________________________________________________\n",
      "dropout_2 (Dropout)          (None, 128)               0         \n",
      "_________________________________________________________________\n",
      "dense_3 (Dense)              (None, 10)                1290      \n",
      "=================================================================\n",
      "Total params: 567,434\n",
      "Trainable params: 567,434\n",
      "Non-trainable params: 0\n",
      "_________________________________________________________________\n"
     ]
    }
   ],
   "source": [
    "reloaded_keras_model_from_SavedModel = tf.keras.models.load_model(savedModel_directory)\n",
    "\n",
    "reloaded_keras_model_from_SavedModel.summary()"
   ]
  },
  {
   "cell_type": "markdown",
   "metadata": {
    "colab_type": "text",
    "id": "FomAlrxnQnm8"
   },
   "source": [
    "## Saving Models During Training\n",
    "\n",
    "\n",
    "훈련중에 validation loss는 훈련이 잘 진행되는지 확인할 수 있는 지표 역할을 한다. overfitting이 일어나지 않는 최적 validation loss의 모형을 저장할 수 있다. \n",
    "\n",
    "`tf.keras` 에서 다음과 같은 callback을 사용한다:\n",
    "\n",
    "```python\n",
    "tf.keras.callbacks.ModelCheckpoint('./best_model.h5', monitor='val_loss', save_best_only=True)\n",
    "```\n",
    "\n",
    "위의 callback은 매 epoch마다 Keras HDF5 file로 저장한다. `save_best_only=True` argument을 주면, 가장 최적의 모형만을 저장한다."
   ]
  },
  {
   "cell_type": "code",
   "execution_count": 22,
   "metadata": {
    "colab": {
     "base_uri": "https://localhost:8080/",
     "height": 765
    },
    "colab_type": "code",
    "id": "vvsuAeUQ1WKR",
    "outputId": "b8ee7834-f46e-4141-d61c-83cd7d72a333"
   },
   "outputs": [
    {
     "name": "stdout",
     "output_type": "stream",
     "text": [
      "Epoch 1/100\n",
      "782/782 [==============================] - 1s 2ms/step - loss: 0.9524 - accuracy: 0.6444 - val_loss: 0.6791 - val_accuracy: 0.7531\n",
      "Epoch 2/100\n",
      "782/782 [==============================] - 1s 1ms/step - loss: 0.5907 - accuracy: 0.7834 - val_loss: 0.5482 - val_accuracy: 0.7968\n",
      "Epoch 3/100\n",
      "782/782 [==============================] - 1s 1ms/step - loss: 0.5212 - accuracy: 0.8117 - val_loss: 0.5032 - val_accuracy: 0.8177\n",
      "Epoch 4/100\n",
      "782/782 [==============================] - 1s 1ms/step - loss: 0.4769 - accuracy: 0.8296 - val_loss: 0.4689 - val_accuracy: 0.8332\n",
      "Epoch 5/100\n",
      "782/782 [==============================] - 1s 1ms/step - loss: 0.4423 - accuracy: 0.8422 - val_loss: 0.4446 - val_accuracy: 0.8367\n",
      "Epoch 6/100\n",
      "782/782 [==============================] - 1s 1ms/step - loss: 0.4179 - accuracy: 0.8486 - val_loss: 0.4232 - val_accuracy: 0.8496\n",
      "Epoch 7/100\n",
      "782/782 [==============================] - 1s 1ms/step - loss: 0.4012 - accuracy: 0.8546 - val_loss: 0.4122 - val_accuracy: 0.8526\n",
      "Epoch 8/100\n",
      "782/782 [==============================] - 1s 1ms/step - loss: 0.3847 - accuracy: 0.8598 - val_loss: 0.3870 - val_accuracy: 0.8591\n",
      "Epoch 9/100\n",
      "782/782 [==============================] - 1s 1ms/step - loss: 0.3734 - accuracy: 0.8628 - val_loss: 0.3880 - val_accuracy: 0.8618\n",
      "Epoch 10/100\n",
      "782/782 [==============================] - 1s 1ms/step - loss: 0.3620 - accuracy: 0.8665 - val_loss: 0.3749 - val_accuracy: 0.8603\n",
      "Epoch 11/100\n",
      "782/782 [==============================] - 1s 1ms/step - loss: 0.3504 - accuracy: 0.8720 - val_loss: 0.3646 - val_accuracy: 0.8665\n",
      "Epoch 12/100\n",
      "782/782 [==============================] - 1s 1ms/step - loss: 0.3402 - accuracy: 0.8745 - val_loss: 0.3746 - val_accuracy: 0.8613\n",
      "Epoch 13/100\n",
      "782/782 [==============================] - 1s 1ms/step - loss: 0.3316 - accuracy: 0.8786 - val_loss: 0.3552 - val_accuracy: 0.8702\n",
      "Epoch 14/100\n",
      "782/782 [==============================] - 1s 1ms/step - loss: 0.3236 - accuracy: 0.8807 - val_loss: 0.3425 - val_accuracy: 0.8744\n",
      "Epoch 15/100\n",
      "782/782 [==============================] - 1s 1ms/step - loss: 0.3160 - accuracy: 0.8828 - val_loss: 0.3489 - val_accuracy: 0.8750\n",
      "Epoch 16/100\n",
      "782/782 [==============================] - 1s 1ms/step - loss: 0.3089 - accuracy: 0.8861 - val_loss: 0.3622 - val_accuracy: 0.8672\n",
      "Epoch 17/100\n",
      "782/782 [==============================] - 1s 1ms/step - loss: 0.3035 - accuracy: 0.8869 - val_loss: 0.3562 - val_accuracy: 0.8728\n",
      "Epoch 18/100\n",
      "782/782 [==============================] - 1s 1ms/step - loss: 0.2964 - accuracy: 0.8907 - val_loss: 0.3470 - val_accuracy: 0.8743\n",
      "Epoch 19/100\n",
      "782/782 [==============================] - 1s 1ms/step - loss: 0.2891 - accuracy: 0.8941 - val_loss: 0.3301 - val_accuracy: 0.8798\n",
      "Epoch 20/100\n",
      "782/782 [==============================] - 1s 1ms/step - loss: 0.2855 - accuracy: 0.8932 - val_loss: 0.3264 - val_accuracy: 0.8830\n",
      "Epoch 21/100\n",
      "782/782 [==============================] - 1s 1ms/step - loss: 0.2797 - accuracy: 0.8964 - val_loss: 0.3279 - val_accuracy: 0.8829\n",
      "Epoch 22/100\n",
      "782/782 [==============================] - 1s 1ms/step - loss: 0.2740 - accuracy: 0.8981 - val_loss: 0.3449 - val_accuracy: 0.8740\n",
      "Epoch 23/100\n",
      "782/782 [==============================] - 1s 1ms/step - loss: 0.2704 - accuracy: 0.8999 - val_loss: 0.3225 - val_accuracy: 0.8840\n",
      "Epoch 24/100\n",
      "782/782 [==============================] - 1s 1ms/step - loss: 0.2650 - accuracy: 0.9015 - val_loss: 0.3161 - val_accuracy: 0.8870\n",
      "Epoch 25/100\n",
      "782/782 [==============================] - 1s 1ms/step - loss: 0.2615 - accuracy: 0.9023 - val_loss: 0.3325 - val_accuracy: 0.8778\n",
      "Epoch 26/100\n",
      "782/782 [==============================] - 1s 1ms/step - loss: 0.2552 - accuracy: 0.9046 - val_loss: 0.3123 - val_accuracy: 0.8873\n",
      "Epoch 27/100\n",
      "782/782 [==============================] - 1s 1ms/step - loss: 0.2507 - accuracy: 0.9071 - val_loss: 0.3195 - val_accuracy: 0.8857\n",
      "Epoch 28/100\n",
      "782/782 [==============================] - 1s 1ms/step - loss: 0.2469 - accuracy: 0.9076 - val_loss: 0.3211 - val_accuracy: 0.8860\n",
      "Epoch 29/100\n",
      "782/782 [==============================] - 1s 1ms/step - loss: 0.2423 - accuracy: 0.9099 - val_loss: 0.3222 - val_accuracy: 0.8847\n",
      "Epoch 30/100\n",
      "782/782 [==============================] - 1s 1ms/step - loss: 0.2372 - accuracy: 0.9121 - val_loss: 0.3258 - val_accuracy: 0.8831\n",
      "Epoch 31/100\n",
      "782/782 [==============================] - 1s 1ms/step - loss: 0.2382 - accuracy: 0.9110 - val_loss: 0.3165 - val_accuracy: 0.8869\n",
      "Epoch 32/100\n",
      "782/782 [==============================] - 1s 1ms/step - loss: 0.2306 - accuracy: 0.9139 - val_loss: 0.3370 - val_accuracy: 0.8819\n",
      "Epoch 33/100\n",
      "782/782 [==============================] - 1s 1ms/step - loss: 0.2247 - accuracy: 0.9172 - val_loss: 0.3356 - val_accuracy: 0.8841\n",
      "Epoch 34/100\n",
      "782/782 [==============================] - 1s 1ms/step - loss: 0.2242 - accuracy: 0.9162 - val_loss: 0.3348 - val_accuracy: 0.8832\n",
      "Epoch 35/100\n",
      "782/782 [==============================] - 1s 1ms/step - loss: 0.2164 - accuracy: 0.9205 - val_loss: 0.3204 - val_accuracy: 0.8853\n",
      "Epoch 36/100\n",
      "782/782 [==============================] - 1s 1ms/step - loss: 0.2148 - accuracy: 0.9195 - val_loss: 0.3262 - val_accuracy: 0.8899\n"
     ]
    }
   ],
   "source": [
    "model = tf.keras.Sequential([\n",
    "        tf.keras.layers.Flatten(input_shape=(28,28,1)),\n",
    "        tf.keras.layers.Dense(256, activation = 'relu'),\n",
    "        tf.keras.layers.Dense(128, activation = 'relu'),\n",
    "        tf.keras.layers.Dense(64, activation = 'relu'),\n",
    "        tf.keras.layers.Dense(10, activation = 'softmax')\n",
    "])\n",
    "\n",
    "model.compile(optimizer='adam',\n",
    "              loss='sparse_categorical_crossentropy',\n",
    "              metrics=['accuracy'])\n",
    "\n",
    "# Stop training when there is no improvement in the validation loss for 10 consecutive epochs\n",
    "early_stopping = tf.keras.callbacks.EarlyStopping(monitor='val_loss', patience=10)\n",
    "\n",
    "# Save the Model with the lowest validation loss\n",
    "save_best = tf.keras.callbacks.ModelCheckpoint('./best_model.h5',\n",
    "                                               monitor='val_loss',\n",
    "                                               save_best_only=True)\n",
    "\n",
    "history = model.fit(training_batches,\n",
    "                    epochs = 100,\n",
    "                    validation_data=validation_batches,\n",
    "                    callbacks=[early_stopping, save_best])"
   ]
  },
  {
   "cell_type": "code",
   "execution_count": null,
   "metadata": {
    "colab": {},
    "colab_type": "code",
    "id": "sz4snGQsR2Mg"
   },
   "outputs": [],
   "source": []
  }
 ],
 "metadata": {
  "accelerator": "GPU",
  "colab": {
   "collapsed_sections": [],
   "name": "Part 6 - Saving and Loading Models.ipynb",
   "provenance": []
  },
  "kernelspec": {
   "display_name": "Python 3",
   "language": "python",
   "name": "python3"
  },
  "language_info": {
   "codemirror_mode": {
    "name": "ipython",
    "version": 3
   },
   "file_extension": ".py",
   "mimetype": "text/x-python",
   "name": "python",
   "nbconvert_exporter": "python",
   "pygments_lexer": "ipython3",
   "version": "3.8.3"
  }
 },
 "nbformat": 4,
 "nbformat_minor": 1
}
