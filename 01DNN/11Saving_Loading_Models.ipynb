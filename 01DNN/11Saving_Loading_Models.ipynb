{
 "cells": [
  {
   "cell_type": "markdown",
   "metadata": {
    "colab_type": "text",
    "id": "k7sePAkWpLJV"
   },
   "source": [
    "# Saving and Loading Models\n",
    "\n",
    "TensorFlow에서 모형을 저장하고 불러오는 방법을 알아본다."
   ]
  },
  {
   "cell_type": "markdown",
   "metadata": {
    "colab_type": "text",
    "id": "tD856SqhH4JK"
   },
   "source": [
    "## Import Resources"
   ]
  },
  {
   "cell_type": "code",
   "execution_count": 15,
   "metadata": {
    "colab": {},
    "colab_type": "code",
    "id": "DrJjfWzzi_hA"
   },
   "outputs": [],
   "source": [
    "import warnings\n",
    "warnings.filterwarnings('ignore')"
   ]
  },
  {
   "cell_type": "code",
   "execution_count": 16,
   "metadata": {
    "colab": {},
    "colab_type": "code",
    "id": "Hsu5egUUqPg9"
   },
   "outputs": [],
   "source": [
    "%matplotlib inline\n",
    "%config InlineBackend.figure_format = 'retina'\n",
    "\n",
    "import time\n",
    "import numpy as np\n",
    "import matplotlib.pyplot as plt\n",
    "\n",
    "import tensorflow as tf\n"
   ]
  },
  {
   "cell_type": "code",
   "execution_count": 17,
   "metadata": {
    "colab": {},
    "colab_type": "code",
    "id": "EdZ26U_ei_hK"
   },
   "outputs": [],
   "source": [
    "import logging\n",
    "logger = tf.get_logger()\n",
    "logger.setLevel(logging.ERROR)"
   ]
  },
  {
   "cell_type": "code",
   "execution_count": 18,
   "metadata": {
    "colab": {
     "base_uri": "https://localhost:8080/",
     "height": 85
    },
    "colab_type": "code",
    "id": "BqsrWYDKp4Fd",
    "outputId": "5fe90392-c56f-423f-bc89-b9fc985feecf"
   },
   "outputs": [
    {
     "name": "stdout",
     "output_type": "stream",
     "text": [
      "Using:\n",
      "TensorFlow version: 2.3.0\n",
      "tf.keras version: 2.4.0\n",
      "GPU device not found. Running on CPU\n"
     ]
    }
   ],
   "source": [
    "print('Using:')\n",
    "print('TensorFlow version:', tf.__version__)\n",
    "print('tf.keras version:', tf.keras.__version__)\n",
    "print('Running on GPU' if tf.test.is_gpu_available() else 'GPU device not found. Running on CPU')"
   ]
  },
  {
   "cell_type": "markdown",
   "metadata": {
    "colab_type": "text",
    "id": "dAe81nXoICzC"
   },
   "source": [
    "## Load the Dataset"
   ]
  },
  {
   "cell_type": "code",
   "execution_count": 19,
   "metadata": {},
   "outputs": [],
   "source": [
    "(x_train, y_train), (x_test, y_test) = tf.keras.datasets.fashion_mnist.load_data()"
   ]
  },
  {
   "cell_type": "code",
   "execution_count": 20,
   "metadata": {},
   "outputs": [],
   "source": [
    "# Preprocess the data (these are NumPy arrays)\n",
    "x_train = x_train.reshape(60000, 784).astype(\"float32\") / 255\n",
    "x_test = x_test.reshape(10000, 784).astype(\"float32\") / 255\n",
    "\n",
    "y_train = y_train.astype(\"float32\")\n",
    "y_test = y_test.astype(\"float32\")"
   ]
  },
  {
   "cell_type": "code",
   "execution_count": 21,
   "metadata": {},
   "outputs": [],
   "source": [
    "# Reserve 10,000 samples for validation\n",
    "x_val = x_train[-10000:]\n",
    "y_val = y_train[-10000:]\n",
    "x_train = x_train[:-10000]\n",
    "y_train = y_train[:-10000]"
   ]
  },
  {
   "cell_type": "markdown",
   "metadata": {
    "colab_type": "text",
    "id": "z1WhOLC7Ii3D"
   },
   "source": [
    "## Explore the Dataset"
   ]
  },
  {
   "cell_type": "code",
   "execution_count": 22,
   "metadata": {},
   "outputs": [
    {
     "name": "stdout",
     "output_type": "stream",
     "text": [
      "There are 50,000 images in the training set\n",
      "There are 10,000 images in the validation set\n",
      "There are 10,000 images in the test set\n"
     ]
    }
   ],
   "source": [
    "num_training_examples = len(x_train)\n",
    "num_validation_examples = len(x_val)\n",
    "num_test_examples = len(x_test)\n",
    "\n",
    "print('There are {:,} images in the training set'.format(num_training_examples))\n",
    "print('There are {:,} images in the validation set'.format(num_validation_examples))\n",
    "print('There are {:,} images in the test set'.format(num_test_examples))"
   ]
  },
  {
   "cell_type": "code",
   "execution_count": 23,
   "metadata": {},
   "outputs": [],
   "source": [
    "x_train = x_train.reshape(num_training_examples, 28, 28,1)\n",
    "x_val = x_val.reshape(num_validation_examples, 28, 28,1)\n",
    "x_test = x_test.reshape(num_test_examples, 28, 28,1)\n",
    "\n",
    "training_set = tf.data.Dataset.from_tensor_slices((x_train, y_train))\n",
    "validation_set = tf.data.Dataset.from_tensor_slices((x_val, y_val))\n",
    "test_set = tf.data.Dataset.from_tensor_slices((x_test, y_test))"
   ]
  },
  {
   "cell_type": "code",
   "execution_count": 24,
   "metadata": {
    "colab": {},
    "colab_type": "code",
    "id": "RLMJCpppq43U"
   },
   "outputs": [],
   "source": [
    "class_names = ['T-shirt/top', 'Trouser', 'Pullover', 'Dress', 'Coat', \n",
    "               'Sandal',      'Shirt',   'Sneaker',  'Bag',   'Ankle boot']"
   ]
  },
  {
   "cell_type": "code",
   "execution_count": 25,
   "metadata": {
    "colab": {
     "base_uri": "https://localhost:8080/",
     "height": 280
    },
    "colab_type": "code",
    "id": "PeU9nb_xqW98",
    "outputId": "7e35ce36-2589-4b3e-b2bf-313eaa2414f0"
   },
   "outputs": [
    {
     "data": {
      "image/png": "[encoded data removed]",
      "text/plain": [
       "<Figure size 432x288 with 2 Axes>"
      ]
     },
     "metadata": {
      "image/png": {
       "height": 263,
       "width": 302
      },
      "needs_background": "light"
     },
     "output_type": "display_data"
    }
   ],
   "source": [
    "for image, label in training_set.take(1):\n",
    "    image = image.numpy().squeeze()\n",
    "    label = label.numpy()\n",
    "\n",
    "plt.imshow(image, cmap=plt.cm.binary)\n",
    "plt.title(class_names[int(label)])\n",
    "plt.colorbar()\n",
    "plt.show()"
   ]
  },
  {
   "cell_type": "markdown",
   "metadata": {
    "colab_type": "text",
    "id": "k5rUDqxBIt5N"
   },
   "source": [
    "## Create Pipeline"
   ]
  },
  {
   "cell_type": "code",
   "execution_count": 26,
   "metadata": {
    "colab": {},
    "colab_type": "code",
    "id": "Ec3uphcyci3c"
   },
   "outputs": [],
   "source": [
    "def normalize(image, label):\n",
    "    image = tf.cast(image, tf.float32)\n",
    "    image /= 255\n",
    "    return image, label\n",
    "\n",
    "batch_size = 64\n",
    "\n",
    "training_batches = training_set.cache().shuffle(num_training_examples//4).batch(batch_size).map(normalize).prefetch(1)\n",
    "validation_batches = validation_set.cache().batch(batch_size).map(normalize).prefetch(1)\n",
    "testing_batches = test_set.cache().batch(batch_size).map(normalize).prefetch(1)"
   ]
  },
  {
   "cell_type": "markdown",
   "metadata": {
    "colab_type": "text",
    "id": "ySQuJ-iPqNoR"
   },
   "source": [
    "## Build and Train the Model\n",
    "\n"
   ]
  },
  {
   "cell_type": "code",
   "execution_count": 27,
   "metadata": {
    "colab": {
     "base_uri": "https://localhost:8080/",
     "height": 425
    },
    "colab_type": "code",
    "id": "47Vnu0KJMqwc",
    "outputId": "f1abd9d1-db9e-4bfd-99c7-d4376adb8745"
   },
   "outputs": [
    {
     "name": "stdout",
     "output_type": "stream",
     "text": [
      "Model: \"sequential\"\n",
      "_________________________________________________________________\n",
      "Layer (type)                 Output Shape              Param #   \n",
      "=================================================================\n",
      "flatten (Flatten)            (None, 784)               0         \n",
      "_________________________________________________________________\n",
      "dense (Dense)                (None, 512)               401920    \n",
      "_________________________________________________________________\n",
      "dropout (Dropout)            (None, 512)               0         \n",
      "_________________________________________________________________\n",
      "dense_1 (Dense)              (None, 256)               131328    \n",
      "_________________________________________________________________\n",
      "dropout_1 (Dropout)          (None, 256)               0         \n",
      "_________________________________________________________________\n",
      "dense_2 (Dense)              (None, 128)               32896     \n",
      "_________________________________________________________________\n",
      "dropout_2 (Dropout)          (None, 128)               0         \n",
      "_________________________________________________________________\n",
      "dense_3 (Dense)              (None, 10)                1290      \n",
      "=================================================================\n",
      "Total params: 567,434\n",
      "Trainable params: 567,434\n",
      "Non-trainable params: 0\n",
      "_________________________________________________________________\n"
     ]
    }
   ],
   "source": [
    "layer_neurons = [512, 256, 128]\n",
    "\n",
    "dropout_rate = 0.5\n",
    "\n",
    "model = tf.keras.Sequential()\n",
    "\n",
    "model.add(tf.keras.layers.Flatten(input_shape=(28,28,1)))\n",
    "\n",
    "for neurons in layer_neurons:\n",
    "    model.add(tf.keras.layers.Dense(neurons, activation = 'relu'))\n",
    "    model.add(tf.keras.layers.Dropout(dropout_rate))\n",
    "\n",
    "model.add(tf.keras.layers.Dense(10, activation = 'softmax'))\n",
    "\n",
    "model.summary()"
   ]
  },
  {
   "cell_type": "code",
   "execution_count": 28,
   "metadata": {
    "colab": {
     "base_uri": "https://localhost:8080/",
     "height": 153
    },
    "colab_type": "code",
    "id": "1qLJ-cAwnmFD",
    "outputId": "32be0a8a-5cfb-473f-872c-e09da279eae5"
   },
   "outputs": [
    {
     "name": "stdout",
     "output_type": "stream",
     "text": [
      "Epoch 1/4\n",
      "782/782 [==============================] - 5s 6ms/step - loss: 1.0831 - accuracy: 0.5739 - val_loss: 0.6314 - val_accuracy: 0.7619\n",
      "Epoch 2/4\n",
      "782/782 [==============================] - 4s 5ms/step - loss: 0.6619 - accuracy: 0.7569 - val_loss: 0.5248 - val_accuracy: 0.7975\n",
      "Epoch 3/4\n",
      "782/782 [==============================] - 4s 5ms/step - loss: 0.5787 - accuracy: 0.7890 - val_loss: 0.4807 - val_accuracy: 0.8160\n",
      "Epoch 4/4\n",
      "782/782 [==============================] - 4s 5ms/step - loss: 0.5250 - accuracy: 0.8137 - val_loss: 0.4487 - val_accuracy: 0.8326\n"
     ]
    }
   ],
   "source": [
    "model.compile(optimizer='adam',\n",
    "              loss='sparse_categorical_crossentropy',\n",
    "              metrics=['accuracy'])\n",
    "\n",
    "EPOCHS = 4\n",
    "\n",
    "history = model.fit(training_batches,\n",
    "                    epochs=EPOCHS,\n",
    "                    validation_data=validation_batches)"
   ]
  },
  {
   "cell_type": "markdown",
   "metadata": {
    "colab_type": "text",
    "id": "jseIvfe2xb56"
   },
   "source": [
    "## Saving and Loading Models\n",
    "\n",
    "TensorFlow 에서는 모형을 2가지 형태로 저장할 수 있다. 하나는 TensorFlow의 SavedModel format 이고 다른 하나는 HDF5 files format으로 Keras models type 이다.\n",
    "\n",
    "### Saving and Loading Models in HDF5 Format\n",
    "\n",
    " `.save(filepath)` method를 사용하여 모형을 저장한다. 예를 들면 다음과 같다.\n",
    "\n",
    "```python\n",
    "my_model.save('./test_model.h5')\n",
    "```\n",
    "\n",
    "파일의 확장자는 반드시 `.h5` 으로 한다. \n",
    "\n",
    " HDF5 file 은 다음과 같은 내용을 저장한다.:\n",
    "\n",
    "* model의 구조.\n",
    "* model의 weight values\n",
    "* model의 훈련과 관련된 설정 `compile` method의 parameter값.\n",
    "* optimizer에 대한 정보\n",
    "\n",
    "\n",
    "기본적으로 `.save()` method는 에러 없이 기존의 파일을 덮어쓰기 한다.`overwrite=False` 을 설정하면 파일 덮어쓰기 전에 prompt한다."
   ]
  },
  {
   "cell_type": "code",
   "execution_count": 29,
   "metadata": {
    "colab": {},
    "colab_type": "code",
    "id": "G1dOvNRvrhNa"
   },
   "outputs": [],
   "source": [
    "t = time.time()\n",
    "\n",
    "saved_keras_model_filepath = './{}.h5'.format(int(t))\n",
    "\n",
    "model.save(saved_keras_model_filepath)"
   ]
  },
  {
   "cell_type": "markdown",
   "metadata": {
    "colab_type": "text",
    "id": "lGNRBb1puSRg"
   },
   "source": [
    "일단 저장된 모형은 `tf.keras.models.load_model(filepath)` 을 통해 불러들인다. "
   ]
  },
  {
   "cell_type": "code",
   "execution_count": 30,
   "metadata": {
    "colab": {
     "base_uri": "https://localhost:8080/",
     "height": 547
    },
    "colab_type": "code",
    "id": "akaAVE2js5d0",
    "outputId": "84301998-a6c3-4a55-c5f1-f76d086290bf"
   },
   "outputs": [
    {
     "name": "stdout",
     "output_type": "stream",
     "text": [
      "Model: \"sequential\"\n",
      "_________________________________________________________________\n",
      "Layer (type)                 Output Shape              Param #   \n",
      "=================================================================\n",
      "flatten (Flatten)            (None, 784)               0         \n",
      "_________________________________________________________________\n",
      "dense (Dense)                (None, 512)               401920    \n",
      "_________________________________________________________________\n",
      "dropout (Dropout)            (None, 512)               0         \n",
      "_________________________________________________________________\n",
      "dense_1 (Dense)              (None, 256)               131328    \n",
      "_________________________________________________________________\n",
      "dropout_1 (Dropout)          (None, 256)               0         \n",
      "_________________________________________________________________\n",
      "dense_2 (Dense)              (None, 128)               32896     \n",
      "_________________________________________________________________\n",
      "dropout_2 (Dropout)          (None, 128)               0         \n",
      "_________________________________________________________________\n",
      "dense_3 (Dense)              (None, 10)                1290      \n",
      "=================================================================\n",
      "Total params: 567,434\n",
      "Trainable params: 567,434\n",
      "Non-trainable params: 0\n",
      "_________________________________________________________________\n"
     ]
    }
   ],
   "source": [
    "reloaded_keras_model = tf.keras.models.load_model(saved_keras_model_filepath)\n",
    "\n",
    "reloaded_keras_model.summary()"
   ]
  },
  {
   "cell_type": "markdown",
   "metadata": {
    "colab_type": "text",
    "id": "xWihP1oMjNeF"
   },
   "source": [
    "`reloaded_keras_model`은 원래 `model` 과 같은 복사본이 된다. 다음과 같은 명령어로 Prediction 을 수행할 수 있다."
   ]
  },
  {
   "cell_type": "code",
   "execution_count": 31,
   "metadata": {
    "colab": {
     "base_uri": "https://localhost:8080/",
     "height": 34
    },
    "colab_type": "code",
    "id": "gLQsw7QVkElc",
    "outputId": "0d00e16b-9fdd-4d34-b9ab-96956ddbf5a5"
   },
   "outputs": [
    {
     "name": "stdout",
     "output_type": "stream",
     "text": [
      "0.0\n"
     ]
    }
   ],
   "source": [
    "for image_batch, label_batch in testing_batches.take(1):\n",
    "    prediction_1 = model.predict(image_batch)\n",
    "    prediction_2 = reloaded_keras_model.predict(image_batch)\n",
    "    difference = np.abs(prediction_1 - prediction_2)\n",
    "    print(difference.max())"
   ]
  },
  {
   "cell_type": "markdown",
   "metadata": {
    "colab_type": "text",
    "id": "K-dDOY0BmYhs"
   },
   "source": [
    "결과가 0.0 인것은 같은 이미지에 대해 같은 prediction을 수행한 결과이다."
   ]
  },
  {
   "cell_type": "markdown",
   "metadata": {
    "colab_type": "text",
    "id": "lxHdz18pQUNV"
   },
   "source": [
    "### Saving and Loading TensorFlow SavedModels"
   ]
  },
  {
   "cell_type": "markdown",
   "metadata": {
    "colab_type": "text",
    "id": "OGtK83g2vVki"
   },
   "source": [
    "TensorFlow 의 **SavedModel** format로 모형을 저장하기 위해서 `tf.saved_model.save(model, export_dir)` function을 사용한다. 예를 들면 다음과 같다.\n",
    "\n",
    "```python\n",
    "tf.saved_model.save(my_model, './saved_models')\n",
    "```\n",
    "\n",
    "주의할 것은 파일의 이름을 쓰는 것이 아니라 모형이 저장될 directory명을 쓴다는 것이다. \n",
    "왜냐면 SavedModels 은 단일한 file로 저장되는 것이 아니기 때문이다. `tf.saved_model.save()` function은 `assets` folder, `variables` folder 그리고 `saved_model.pb` 을 생성한다.\n",
    "\n",
    "SavedModel files 은 다음과 같은 내용을 포함한다:\n",
    "\n",
    "* model weights.\n",
    "* TensorFlow graph - prediction, training, evaluation에 사용된다.\n",
    "* model의 구조와 관련된 설정 정보\n"
   ]
  },
  {
   "cell_type": "code",
   "execution_count": 32,
   "metadata": {
    "colab": {
     "base_uri": "https://localhost:8080/",
     "height": 173
    },
    "colab_type": "code",
    "id": "V2C0F3luxzlI",
    "outputId": "80a362e5-008f-4f54-ffb5-0b5577b5c46b"
   },
   "outputs": [],
   "source": [
    "t = time.time()\n",
    "\n",
    "savedModel_directory = './{}'.format(int(t))\n",
    "\n",
    "tf.saved_model.save(model, savedModel_directory)"
   ]
  },
  {
   "cell_type": "markdown",
   "metadata": {
    "colab_type": "text",
    "id": "DBY1j0QEyjPi"
   },
   "source": [
    "SavedModel로 저장된 모형은 `tf.saved_model.load(export_dir)` 로 불러들일 수 있다. "
   ]
  },
  {
   "cell_type": "code",
   "execution_count": 33,
   "metadata": {
    "colab": {},
    "colab_type": "code",
    "id": "rRx2y2M4AtKl"
   },
   "outputs": [],
   "source": [
    "reloaded_SavedModel = tf.saved_model.load(savedModel_directory)"
   ]
  },
  {
   "cell_type": "markdown",
   "metadata": {
    "colab_type": "text",
    "id": "wJwmzT1gAwew"
   },
   "source": [
    "`tf.saved_model.load` 은 Keras object가 아니다. 따라서 `.fit`, `.predict`, `.summary` 등과 같은 methods를 사용할 수 없다. `reloaded_SavedModel` 로 Prediction을 수행하려면 Keras model로 re-load해야 한다.\n",
    "\n",
    "predictions을 수행하기 위해서 다음과 같이 사용한다.\n",
    "\n",
    "```python\n",
    "reloaded_SavedModel(image_batch, training=False)\n",
    "```\n"
   ]
  },
  {
   "cell_type": "code",
   "execution_count": 35,
   "metadata": {
    "colab": {
     "base_uri": "https://localhost:8080/",
     "height": 34
    },
    "colab_type": "code",
    "id": "ozMqD1ZoER5g",
    "outputId": "17769afa-1a1f-48c4-80e5-a389c80f4062"
   },
   "outputs": [
    {
     "name": "stdout",
     "output_type": "stream",
     "text": [
      "2.682209e-07\n"
     ]
    }
   ],
   "source": [
    "for image_batch, label_batch in testing_batches.take(1):\n",
    "    prediction_1 = model.predict(image_batch)\n",
    "    prediction_2 = reloaded_SavedModel(image_batch, training=False).numpy()\n",
    "    difference = np.abs(prediction_1 - prediction_2)\n",
    "    print(difference.max())"
   ]
  },
  {
   "cell_type": "markdown",
   "metadata": {
    "colab_type": "text",
    "id": "3QZNNPkYFH3D"
   },
   "source": [
    "TensorFlow SavedModel로 부터 Keras model을 가져오기 위해서 `tf.keras.models.load_model` function을 사용한다. "
   ]
  },
  {
   "cell_type": "code",
   "execution_count": 36,
   "metadata": {
    "colab": {
     "base_uri": "https://localhost:8080/",
     "height": 425
    },
    "colab_type": "code",
    "id": "0BxFJcGLyMTD",
    "outputId": "a2fefa76-57b5-4a9e-8c05-b8a1ae7f31a2"
   },
   "outputs": [
    {
     "name": "stdout",
     "output_type": "stream",
     "text": [
      "Model: \"sequential\"\n",
      "_________________________________________________________________\n",
      "Layer (type)                 Output Shape              Param #   \n",
      "=================================================================\n",
      "flatten (Flatten)            (None, 784)               0         \n",
      "_________________________________________________________________\n",
      "dense (Dense)                (None, 512)               401920    \n",
      "_________________________________________________________________\n",
      "dropout (Dropout)            (None, 512)               0         \n",
      "_________________________________________________________________\n",
      "dense_1 (Dense)              (None, 256)               131328    \n",
      "_________________________________________________________________\n",
      "dropout_1 (Dropout)          (None, 256)               0         \n",
      "_________________________________________________________________\n",
      "dense_2 (Dense)              (None, 128)               32896     \n",
      "_________________________________________________________________\n",
      "dropout_2 (Dropout)          (None, 128)               0         \n",
      "_________________________________________________________________\n",
      "dense_3 (Dense)              (None, 10)                1290      \n",
      "=================================================================\n",
      "Total params: 567,434\n",
      "Trainable params: 567,434\n",
      "Non-trainable params: 0\n",
      "_________________________________________________________________\n"
     ]
    }
   ],
   "source": [
    "reloaded_keras_model_from_SavedModel = tf.keras.models.load_model(savedModel_directory)\n",
    "\n",
    "reloaded_keras_model_from_SavedModel.summary()"
   ]
  },
  {
   "cell_type": "markdown",
   "metadata": {
    "colab_type": "text",
    "id": "FomAlrxnQnm8"
   },
   "source": [
    "## Saving Models During Training\n",
    "\n",
    "\n",
    "훈련중에 validation loss는 훈련이 잘 진행되는지 확인할 수 있는 지표 역할을 한다. overfitting이 일어나지 않는 최적 validation loss의 모형을 저장할 수 있다. \n",
    "\n",
    "`tf.keras` 에서 다음과 같은 callback을 사용한다:\n",
    "\n",
    "```python\n",
    "tf.keras.callbacks.ModelCheckpoint('./best_model.h5', monitor='val_loss', save_best_only=True)\n",
    "```\n",
    "\n",
    "위의 callback은 매 epoch마다 Keras HDF5 file로 저장한다. `save_best_only=True` argument을 주면, 가장 최적의 모형만을 저장한다."
   ]
  },
  {
   "cell_type": "code",
   "execution_count": 37,
   "metadata": {
    "colab": {
     "base_uri": "https://localhost:8080/",
     "height": 765
    },
    "colab_type": "code",
    "id": "vvsuAeUQ1WKR",
    "outputId": "b8ee7834-f46e-4141-d61c-83cd7d72a333"
   },
   "outputs": [
    {
     "name": "stdout",
     "output_type": "stream",
     "text": [
      "Epoch 1/100\n",
      "782/782 [==============================] - 2s 3ms/step - loss: 0.8801 - accuracy: 0.6777 - val_loss: 0.6076 - val_accuracy: 0.7789\n",
      "Epoch 2/100\n",
      "782/782 [==============================] - 2s 3ms/step - loss: 0.5680 - accuracy: 0.7948 - val_loss: 0.5342 - val_accuracy: 0.8075\n",
      "Epoch 3/100\n",
      "782/782 [==============================] - 2s 2ms/step - loss: 0.5181 - accuracy: 0.8150 - val_loss: 0.5108 - val_accuracy: 0.8109\n",
      "Epoch 4/100\n",
      "782/782 [==============================] - 2s 2ms/step - loss: 0.4786 - accuracy: 0.8278 - val_loss: 0.4771 - val_accuracy: 0.8253\n",
      "Epoch 5/100\n",
      "782/782 [==============================] - 2s 2ms/step - loss: 0.4505 - accuracy: 0.8367 - val_loss: 0.4629 - val_accuracy: 0.8302\n",
      "Epoch 6/100\n",
      "782/782 [==============================] - 2s 2ms/step - loss: 0.4292 - accuracy: 0.8437 - val_loss: 0.4287 - val_accuracy: 0.8443\n",
      "Epoch 7/100\n",
      "782/782 [==============================] - 2s 2ms/step - loss: 0.4067 - accuracy: 0.8509 - val_loss: 0.4070 - val_accuracy: 0.8495\n",
      "Epoch 8/100\n",
      "782/782 [==============================] - 2s 2ms/step - loss: 0.3961 - accuracy: 0.8545 - val_loss: 0.4039 - val_accuracy: 0.8538\n",
      "Epoch 9/100\n",
      "782/782 [==============================] - 2s 2ms/step - loss: 0.3790 - accuracy: 0.8627 - val_loss: 0.4015 - val_accuracy: 0.8546\n",
      "Epoch 10/100\n",
      "782/782 [==============================] - 2s 2ms/step - loss: 0.3651 - accuracy: 0.8660 - val_loss: 0.3916 - val_accuracy: 0.8548\n",
      "Epoch 11/100\n",
      "782/782 [==============================] - 2s 2ms/step - loss: 0.3555 - accuracy: 0.8693 - val_loss: 0.3774 - val_accuracy: 0.8632\n",
      "Epoch 12/100\n",
      "782/782 [==============================] - 2s 2ms/step - loss: 0.3452 - accuracy: 0.8723 - val_loss: 0.3821 - val_accuracy: 0.8593\n",
      "Epoch 13/100\n",
      "782/782 [==============================] - 2s 2ms/step - loss: 0.3359 - accuracy: 0.8768 - val_loss: 0.3600 - val_accuracy: 0.8668\n",
      "Epoch 14/100\n",
      "782/782 [==============================] - 2s 2ms/step - loss: 0.3262 - accuracy: 0.8795 - val_loss: 0.3499 - val_accuracy: 0.8703\n",
      "Epoch 15/100\n",
      "782/782 [==============================] - 2s 2ms/step - loss: 0.3180 - accuracy: 0.8842 - val_loss: 0.3627 - val_accuracy: 0.8688\n",
      "Epoch 16/100\n",
      "782/782 [==============================] - 2s 2ms/step - loss: 0.3126 - accuracy: 0.8844 - val_loss: 0.3583 - val_accuracy: 0.8690\n",
      "Epoch 17/100\n",
      "782/782 [==============================] - 2s 2ms/step - loss: 0.3056 - accuracy: 0.8883 - val_loss: 0.3402 - val_accuracy: 0.8774\n",
      "Epoch 18/100\n",
      "782/782 [==============================] - 2s 2ms/step - loss: 0.2982 - accuracy: 0.8894 - val_loss: 0.3405 - val_accuracy: 0.8744\n",
      "Epoch 19/100\n",
      "782/782 [==============================] - 2s 2ms/step - loss: 0.2942 - accuracy: 0.8910 - val_loss: 0.3402 - val_accuracy: 0.8779\n",
      "Epoch 20/100\n",
      "782/782 [==============================] - 2s 2ms/step - loss: 0.2863 - accuracy: 0.8949 - val_loss: 0.3418 - val_accuracy: 0.8749\n",
      "Epoch 21/100\n",
      "782/782 [==============================] - 2s 2ms/step - loss: 0.2811 - accuracy: 0.8960 - val_loss: 0.3338 - val_accuracy: 0.8806\n",
      "Epoch 22/100\n",
      "782/782 [==============================] - 2s 2ms/step - loss: 0.2743 - accuracy: 0.8988 - val_loss: 0.3272 - val_accuracy: 0.8821\n",
      "Epoch 23/100\n",
      "782/782 [==============================] - 2s 2ms/step - loss: 0.2721 - accuracy: 0.8981 - val_loss: 0.3359 - val_accuracy: 0.8787\n",
      "Epoch 24/100\n",
      "782/782 [==============================] - 2s 2ms/step - loss: 0.2645 - accuracy: 0.9019 - val_loss: 0.3458 - val_accuracy: 0.8769\n",
      "Epoch 25/100\n",
      "782/782 [==============================] - 2s 2ms/step - loss: 0.2611 - accuracy: 0.9029 - val_loss: 0.3436 - val_accuracy: 0.8768\n",
      "Epoch 26/100\n",
      "782/782 [==============================] - 2s 2ms/step - loss: 0.2575 - accuracy: 0.9036 - val_loss: 0.3467 - val_accuracy: 0.8751\n",
      "Epoch 27/100\n",
      "782/782 [==============================] - 2s 2ms/step - loss: 0.2518 - accuracy: 0.9065 - val_loss: 0.3558 - val_accuracy: 0.8709\n",
      "Epoch 28/100\n",
      "782/782 [==============================] - 2s 2ms/step - loss: 0.2447 - accuracy: 0.9089 - val_loss: 0.3467 - val_accuracy: 0.8782\n",
      "Epoch 29/100\n",
      "782/782 [==============================] - 2s 2ms/step - loss: 0.2406 - accuracy: 0.9106 - val_loss: 0.3261 - val_accuracy: 0.8855\n",
      "Epoch 30/100\n",
      "782/782 [==============================] - 2s 2ms/step - loss: 0.2371 - accuracy: 0.9127 - val_loss: 0.3207 - val_accuracy: 0.8864\n",
      "Epoch 31/100\n",
      "782/782 [==============================] - 2s 2ms/step - loss: 0.2306 - accuracy: 0.9135 - val_loss: 0.3269 - val_accuracy: 0.8829\n",
      "Epoch 32/100\n",
      "782/782 [==============================] - 2s 2ms/step - loss: 0.2292 - accuracy: 0.9148 - val_loss: 0.3197 - val_accuracy: 0.8868\n",
      "Epoch 33/100\n",
      "782/782 [==============================] - 2s 2ms/step - loss: 0.2237 - accuracy: 0.9180 - val_loss: 0.3194 - val_accuracy: 0.8876\n",
      "Epoch 34/100\n",
      "782/782 [==============================] - 2s 2ms/step - loss: 0.2199 - accuracy: 0.9180 - val_loss: 0.3206 - val_accuracy: 0.8866\n",
      "Epoch 35/100\n",
      "782/782 [==============================] - 2s 2ms/step - loss: 0.2194 - accuracy: 0.9184 - val_loss: 0.3202 - val_accuracy: 0.8889\n",
      "Epoch 36/100\n",
      "782/782 [==============================] - 2s 2ms/step - loss: 0.2141 - accuracy: 0.9201 - val_loss: 0.3265 - val_accuracy: 0.8850\n",
      "Epoch 37/100\n",
      "782/782 [==============================] - 2s 2ms/step - loss: 0.2102 - accuracy: 0.9225 - val_loss: 0.3192 - val_accuracy: 0.8895\n",
      "Epoch 38/100\n",
      "782/782 [==============================] - 2s 2ms/step - loss: 0.2057 - accuracy: 0.9239 - val_loss: 0.3299 - val_accuracy: 0.8864\n",
      "Epoch 39/100\n",
      "782/782 [==============================] - 2s 2ms/step - loss: 0.2030 - accuracy: 0.9237 - val_loss: 0.3158 - val_accuracy: 0.8915\n",
      "Epoch 40/100\n",
      "782/782 [==============================] - 2s 2ms/step - loss: 0.1991 - accuracy: 0.9253 - val_loss: 0.3308 - val_accuracy: 0.8885\n",
      "Epoch 41/100\n",
      "782/782 [==============================] - 2s 2ms/step - loss: 0.1942 - accuracy: 0.9278 - val_loss: 0.3299 - val_accuracy: 0.8883\n",
      "Epoch 42/100\n",
      "782/782 [==============================] - 2s 2ms/step - loss: 0.1930 - accuracy: 0.9282 - val_loss: 0.3441 - val_accuracy: 0.8837\n",
      "Epoch 43/100\n",
      "782/782 [==============================] - 2s 2ms/step - loss: 0.1897 - accuracy: 0.9289 - val_loss: 0.3410 - val_accuracy: 0.8840\n",
      "Epoch 44/100\n",
      "782/782 [==============================] - 2s 2ms/step - loss: 0.1858 - accuracy: 0.9299 - val_loss: 0.3461 - val_accuracy: 0.8862\n",
      "Epoch 45/100\n",
      "782/782 [==============================] - 2s 2ms/step - loss: 0.1841 - accuracy: 0.9318 - val_loss: 0.3436 - val_accuracy: 0.8870\n",
      "Epoch 46/100\n",
      "782/782 [==============================] - 2s 2ms/step - loss: 0.1808 - accuracy: 0.9316 - val_loss: 0.3355 - val_accuracy: 0.8908\n",
      "Epoch 47/100\n",
      "782/782 [==============================] - 2s 2ms/step - loss: 0.1754 - accuracy: 0.9349 - val_loss: 0.3392 - val_accuracy: 0.8887\n",
      "Epoch 48/100\n",
      "782/782 [==============================] - 2s 2ms/step - loss: 0.1751 - accuracy: 0.9352 - val_loss: 0.3363 - val_accuracy: 0.8923\n",
      "Epoch 49/100\n",
      "782/782 [==============================] - 2s 2ms/step - loss: 0.1709 - accuracy: 0.9362 - val_loss: 0.3465 - val_accuracy: 0.8891\n"
     ]
    }
   ],
   "source": [
    "model = tf.keras.Sequential([\n",
    "        tf.keras.layers.Flatten(input_shape=(28,28,1)),\n",
    "        tf.keras.layers.Dense(256, activation = 'relu'),\n",
    "        tf.keras.layers.Dense(128, activation = 'relu'),\n",
    "        tf.keras.layers.Dense(64, activation = 'relu'),\n",
    "        tf.keras.layers.Dense(10, activation = 'softmax')\n",
    "])\n",
    "\n",
    "model.compile(optimizer='adam',\n",
    "              loss='sparse_categorical_crossentropy',\n",
    "              metrics=['accuracy'])\n",
    "\n",
    "# Stop training when there is no improvement in the validation loss for 10 consecutive epochs\n",
    "early_stopping = tf.keras.callbacks.EarlyStopping(monitor='val_loss', patience=10)\n",
    "\n",
    "# Save the Model with the lowest validation loss\n",
    "save_best = tf.keras.callbacks.ModelCheckpoint('./best_model.h5',\n",
    "                                               monitor='val_loss',\n",
    "                                               save_best_only=True)\n",
    "\n",
    "history = model.fit(training_batches,\n",
    "                    epochs = 100,\n",
    "                    validation_data=validation_batches,\n",
    "                    callbacks=[early_stopping, save_best])"
   ]
  },
  {
   "cell_type": "code",
   "execution_count": null,
   "metadata": {
    "colab": {},
    "colab_type": "code",
    "id": "sz4snGQsR2Mg"
   },
   "outputs": [],
   "source": []
  }
 ],
 "metadata": {
  "accelerator": "GPU",
  "colab": {
   "collapsed_sections": [],
   "name": "Part 6 - Saving and Loading Models.ipynb",
   "provenance": []
  },
  "kernelspec": {
   "display_name": "Python 3",
   "language": "python",
   "name": "python3"
  },
  "language_info": {
   "codemirror_mode": {
    "name": "ipython",
    "version": 3
   },
   "file_extension": ".py",
   "mimetype": "text/x-python",
   "name": "python",
   "nbconvert_exporter": "python",
   "pygments_lexer": "ipython3",
   "version": "3.7.6"
  }
 },
 "nbformat": 4,
 "nbformat_minor": 1
}
