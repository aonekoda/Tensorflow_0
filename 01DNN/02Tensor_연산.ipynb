{
 "cells": [
  {
   "cell_type": "markdown",
   "metadata": {
    "school_cell_uuid": "c37e6568f63b480886e8e1a550191c70"
   },
   "source": [
    "# 텐서플로의 텐서 연산"
   ]
  },
  {
   "cell_type": "markdown",
   "metadata": {
    "school_cell_uuid": "60ff504d39f6414b912d985ff1e69f7d"
   },
   "source": [
    "이 절의 내용을 실행하려면 텐서플로우 2.0 버전을 임포트해야 한다."
   ]
  },
  {
   "cell_type": "code",
   "execution_count": 1,
   "metadata": {
    "school_cell_uuid": "6fee37ff724a41239d849ca06c7e258d"
   },
   "outputs": [
    {
     "data": {
      "text/plain": [
       "'2.3.1'"
      ]
     },
     "execution_count": 1,
     "metadata": {},
     "output_type": "execute_result"
    }
   ],
   "source": [
    "import numpy as np\n",
    "import tensorflow as tf\n",
    "\n",
    "tf.__version__ # 텐서플로우 버전확인"
   ]
  },
  {
   "cell_type": "markdown",
   "metadata": {
    "school_cell_uuid": "96674bb5cbc64bf9a67437795e1094c2"
   },
   "source": [
    "Tensor 자료형의 연산은 TensorFlow가 제공하는 연산자를 사용해야 한다. "
   ]
  },
  {
   "cell_type": "markdown",
   "metadata": {
    "school_cell_uuid": "c3f5b5d135e149309f51370d99acf124"
   },
   "source": [
    "### 기본 연산"
   ]
  },
  {
   "cell_type": "markdown",
   "metadata": {
    "school_cell_uuid": "bace0d10cd984c91ae9a94fd4343f4f7"
   },
   "source": [
    "다음과 같은 기본 연산은 특수 메서드를 이용하여 연산자 오버로딩이 되어 있으므로 그냥 연산자 기호를 사용해도 된다.\n",
    "\n",
    "* `tf.add`: 덧셈\n",
    "* `tf.subtract`: 뺄셈\n",
    "* `tf.multiply`: 곱셈\n",
    "* `tf.divide`: 나눗셈\n",
    "* `tf.pow`: n-제곱\n",
    "* `tf.negative`: 음수 부호\n"
   ]
  },
  {
   "cell_type": "code",
   "execution_count": 2,
   "metadata": {
    "school_cell_uuid": "513433ddafb8465db0feed8f7f044ce2"
   },
   "outputs": [
    {
     "data": {
      "text/plain": [
       "array([2, 3, 4, 5, 6, 7])"
      ]
     },
     "execution_count": 2,
     "metadata": {},
     "output_type": "execute_result"
    }
   ],
   "source": [
    "a = tf.range(6, dtype=tf.int32)      # [0, 1, 2, 3, 4, 5]\n",
    "b = 2 * tf.ones(6, dtype=tf.int32)   # [2, 2, 2, 2, 2, 2]\n",
    "\n",
    "tf.add(a, b).numpy()"
   ]
  },
  {
   "cell_type": "code",
   "execution_count": 3,
   "metadata": {
    "school_cell_uuid": "28229573a6ea48f9ae3eaa67e606d06e"
   },
   "outputs": [
    {
     "data": {
      "text/plain": [
       "array([2, 3, 4, 5, 6, 7])"
      ]
     },
     "execution_count": 3,
     "metadata": {},
     "output_type": "execute_result"
    }
   ],
   "source": [
    "(a + b).numpy()"
   ]
  },
  {
   "cell_type": "code",
   "execution_count": 4,
   "metadata": {
    "school_cell_uuid": "73bf30bd3c0f471c97a2e4850efafd65"
   },
   "outputs": [
    {
     "data": {
      "text/plain": [
       "array([-2, -1,  0,  1,  2,  3])"
      ]
     },
     "execution_count": 4,
     "metadata": {},
     "output_type": "execute_result"
    }
   ],
   "source": [
    "(a - b).numpy()"
   ]
  },
  {
   "cell_type": "code",
   "execution_count": 5,
   "metadata": {
    "school_cell_uuid": "306e9e047c2342d5910c859f13851c93"
   },
   "outputs": [
    {
     "data": {
      "text/plain": [
       "array([ 0,  2,  4,  6,  8, 10])"
      ]
     },
     "execution_count": 5,
     "metadata": {},
     "output_type": "execute_result"
    }
   ],
   "source": [
    "(a * b).numpy()"
   ]
  },
  {
   "cell_type": "code",
   "execution_count": 6,
   "metadata": {
    "school_cell_uuid": "178cd43bd9434a09aa4d724c4b270dcd"
   },
   "outputs": [
    {
     "data": {
      "text/plain": [
       "array([0. , 0.5, 1. , 1.5, 2. , 2.5])"
      ]
     },
     "execution_count": 6,
     "metadata": {},
     "output_type": "execute_result"
    }
   ],
   "source": [
    "(a / b).numpy()"
   ]
  },
  {
   "cell_type": "code",
   "execution_count": 7,
   "metadata": {
    "school_cell_uuid": "685726a99b58452983b0ce2566cf4d21"
   },
   "outputs": [
    {
     "data": {
      "text/plain": [
       "array([ 0,  1,  4,  9, 16, 25])"
      ]
     },
     "execution_count": 7,
     "metadata": {},
     "output_type": "execute_result"
    }
   ],
   "source": [
    "(a ** 2).numpy()"
   ]
  },
  {
   "cell_type": "code",
   "execution_count": 8,
   "metadata": {
    "school_cell_uuid": "0d55fbca97444491b5ec74275d45ea8c"
   },
   "outputs": [
    {
     "data": {
      "text/plain": [
       "array([-2, -2, -2, -2, -2, -2])"
      ]
     },
     "execution_count": 8,
     "metadata": {},
     "output_type": "execute_result"
    }
   ],
   "source": [
    "(-b).numpy()"
   ]
  },
  {
   "cell_type": "markdown",
   "metadata": {
    "school_cell_uuid": "28b4a5d42be94bd78a9ea40b6ffb2626"
   },
   "source": [
    "\n",
    "* `tf.abs`: 절대값\n",
    "* `tf.sign`: 부호\n",
    "* `tf.round`: 반올림\n",
    "* `tf.ceil`: 올림\n",
    "* `tf.floor`: 내림\n",
    "* `tf.square`: 제곱\n",
    "* `tf.sqrt`: 제곱근\n",
    "* `tf.maximum`: 두 텐서의 각 원소에서 최댓값만 반환.\n",
    "* `tf.minimum`: 두 텐서의 각 원소에서 최솟값만 반환.\n",
    "* `tf.cumsum`: 누적합\n",
    "* `tf.cumprod`: 누적곱\n"
   ]
  },
  {
   "cell_type": "code",
   "execution_count": 9,
   "metadata": {
    "school_cell_uuid": "095a3b10356a401b9990c67f10aac3a2"
   },
   "outputs": [
    {
     "data": {
      "text/plain": [
       "array([2, 2, 2, 3, 4, 5])"
      ]
     },
     "execution_count": 9,
     "metadata": {},
     "output_type": "execute_result"
    }
   ],
   "source": [
    "tf.maximum(a, b).numpy()"
   ]
  },
  {
   "cell_type": "markdown",
   "metadata": {
    "school_cell_uuid": "6f740bbaff65414b9687f830b820e56f"
   },
   "source": [
    "벡터나 행렬의 원소들을 연산하여 스칼라 값을 구하는 차원 축소 연산은 `tf.reduce_` 명령을 사용한다.\n",
    "\n",
    "* `tf.reduce_all`: 설정한 축으로 이동하면서 `and`논리 연산을 수행한다. \n",
    "* `tf.reduce_any`: 설정한 축으로 이동하면서 `or`논리 연산을 수행한다. \n",
    "* `tf.reduce_mean`: 설정한 축의 평균을 구한다. \n",
    "* `tf.reduce_max`: 설정한 축의 최댓값을 구한다. \n",
    "* `tf.reduce_min`: 설정한 축의 최솟값을 구한다. \n",
    "* `tf.reduce_prod`: 설정한 축의 요소를 모두 곱한 값을 구한다. \n",
    "* `tf.reduce_sum`: 설정한 축의 요소를 모두 더한 값을 구한다. \n",
    "* `tf.reduce_logsumexp`: 설정한 축의 벡터가 $N$차원의 벡터 $x$라고 할 때 \n",
    "$$ \\log \\left( \\displaystyle\\sum_{i=0}^N \\exp x_i\\right) $$\n"
   ]
  },
  {
   "cell_type": "code",
   "execution_count": 10,
   "metadata": {
    "school_cell_uuid": "411c1687484043d0b941cf0b85aea095"
   },
   "outputs": [
    {
     "data": {
      "text/plain": [
       "15"
      ]
     },
     "execution_count": 10,
     "metadata": {},
     "output_type": "execute_result"
    }
   ],
   "source": [
    "tf.reduce_sum(a).numpy()"
   ]
  },
  {
   "cell_type": "code",
   "execution_count": 11,
   "metadata": {},
   "outputs": [
    {
     "name": "stdout",
     "output_type": "stream",
     "text": [
      "x_arr\n",
      " [[[ 0  1  2]\n",
      "  [ 3  4  5]]\n",
      "\n",
      " [[ 6  7  8]\n",
      "  [ 9 10 11]]\n",
      "\n",
      " [[12 13 14]\n",
      "  [15 16 17]]]\n",
      "\n",
      "x2\n",
      " tf.Tensor(\n",
      "[[ 0  1  2  3  4  5]\n",
      " [ 6  7  8  9 10 11]\n",
      " [12 13 14 15 16 17]], shape=(3, 6), dtype=int32)\n"
     ]
    }
   ],
   "source": [
    "x_arr = np.arange(18).reshape(3,2,3) # numpy array 생성\n",
    "print(\"x_arr\\n\", x_arr)\n",
    "x2 = tf.reshape(x_arr, shape=(-1,6)) # numpy array로 부터 텐서를 생성하고 shape 변경\n",
    "print(\"\\nx2\\n\",x2)"
   ]
  },
  {
   "cell_type": "code",
   "execution_count": 12,
   "metadata": {},
   "outputs": [],
   "source": [
    "# 각 열의 합을 계산\n",
    "xsum = tf.reduce_sum(x2, axis=0)\n",
    "# 각 열의 평균을 계산\n",
    "xmean = tf.reduce_mean(x2, axis=0)"
   ]
  },
  {
   "cell_type": "code",
   "execution_count": 13,
   "metadata": {},
   "outputs": [
    {
     "name": "stdout",
     "output_type": "stream",
     "text": [
      "x_array 크기 :  (3, 2, 3)\n",
      "크기 변형, x2: \n",
      " [[ 0  1  2  3  4  5]\n",
      " [ 6  7  8  9 10 11]\n",
      " [12 13 14 15 16 17]]\n",
      "열의 합 :  [18 21 24 27 30 33]\n",
      "열의 평균 :  [ 6  7  8  9 10 11]\n"
     ]
    }
   ],
   "source": [
    "print('x_array 크기 : ', x_arr.shape)\n",
    "print('크기 변형, x2: \\n', x2.numpy())\n",
    "print('열의 합 : ', xsum.numpy())\n",
    "print('열의 평균 : ', xmean.numpy())"
   ]
  },
  {
   "cell_type": "markdown",
   "metadata": {
    "school_cell_uuid": "572289209e204e009233f29119b65cf8"
   },
   "source": [
    "### 자동 형변환"
   ]
  },
  {
   "cell_type": "markdown",
   "metadata": {
    "school_cell_uuid": "abffecc00ef74f0f81db22e24503c8db"
   },
   "source": [
    "TensorFlow 연산자에 NumPy 배열이 들어가면 자동으로 상수 텐서 자료형으로 형변환 되어 연산이 이루어진다."
   ]
  },
  {
   "cell_type": "code",
   "execution_count": 14,
   "metadata": {
    "school_cell_uuid": "61a95a1faf6a4b94a0f9919857e13804"
   },
   "outputs": [
    {
     "data": {
      "text/plain": [
       "array([[3.],\n",
       "       [3.]], dtype=float32)"
      ]
     },
     "execution_count": 14,
     "metadata": {},
     "output_type": "execute_result"
    }
   ],
   "source": [
    "a = np.ones((2, 3), dtype=np.float32)\n",
    "b = tf.ones([3, 1], dtype=tf.float32)\n",
    "tf.matmul(a, b).numpy()"
   ]
  },
  {
   "cell_type": "markdown",
   "metadata": {
    "school_cell_uuid": "0d61f03bb6ec43c4b33064a72841802f"
   },
   "source": [
    "### 행렬 연산"
   ]
  },
  {
   "cell_type": "markdown",
   "metadata": {
    "school_cell_uuid": "fc48db4a250347d69e6e2ef1863e3856"
   },
   "source": [
    "또한 행렬과 관련된 연산에서도 NumPy와는 이름이 다르므로 주의한다.\n",
    "\n",
    "* `tf.matmul`: 내적\n",
    "* `tf.linalg.inv`: 역행렬\n"
   ]
  },
  {
   "cell_type": "code",
   "execution_count": 15,
   "metadata": {
    "school_cell_uuid": "964b730524284922bb11620585984420"
   },
   "outputs": [
    {
     "data": {
      "text/plain": [
       "array([[2., 2.],\n",
       "       [1., 1.]], dtype=float32)"
      ]
     },
     "execution_count": 15,
     "metadata": {},
     "output_type": "execute_result"
    }
   ],
   "source": [
    "a = tf.constant([[2, 0], [0, 1]], dtype=tf.float32)\n",
    "b = tf.constant([[1, 1], [1, 1]], dtype=tf.float32)\n",
    "tf.matmul(a, b).numpy()"
   ]
  },
  {
   "cell_type": "code",
   "execution_count": 16,
   "metadata": {
    "school_cell_uuid": "c8cc149ff20d46a38ef04209d6bf21bc"
   },
   "outputs": [
    {
     "data": {
      "text/plain": [
       "array([[0.5, 0. ],\n",
       "       [0. , 1. ]], dtype=float32)"
      ]
     },
     "execution_count": 16,
     "metadata": {},
     "output_type": "execute_result"
    }
   ],
   "source": [
    "a = tf.constant([[2, 0], [0, 1]], dtype=tf.float32)\n",
    "tf.linalg.inv(a).numpy()"
   ]
  }
 ],
 "metadata": {
  "anaconda-cloud": {},
  "kernelspec": {
   "display_name": "Python 3",
   "language": "python",
   "name": "python3"
  },
  "language_info": {
   "codemirror_mode": {
    "name": "ipython",
    "version": 3
   },
   "file_extension": ".py",
   "mimetype": "text/x-python",
   "name": "python",
   "nbconvert_exporter": "python",
   "pygments_lexer": "ipython3",
   "version": "3.8.3"
  },
  "toc": {
   "base_numbering": 1,
   "nav_menu": {},
   "number_sections": false,
   "sideBar": true,
   "skip_h1_title": false,
   "title_cell": "Table of Contents",
   "title_sidebar": "Contents",
   "toc_cell": false,
   "toc_position": {},
   "toc_section_display": true,
   "toc_window_display": false
  }
 },
 "nbformat": 4,
 "nbformat_minor": 4
}
