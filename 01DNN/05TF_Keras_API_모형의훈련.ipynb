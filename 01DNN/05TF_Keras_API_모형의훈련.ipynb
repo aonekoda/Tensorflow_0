{
 "cells": [
  {
   "cell_type": "markdown",
   "id": "1d7429db",
   "metadata": {},
   "source": [
    "# tf.keras - 모형의 훈련과 훈련된 모형의 저장/복원"
   ]
  },
  {
   "cell_type": "code",
   "execution_count": 1,
   "id": "342e2f5d",
   "metadata": {
    "colab": {},
    "colab_type": "code",
    "id": "kH4-vVI5MBBV",
    "outputId": "fff3f54f-fb88-4682-85b1-b3574f89afce"
   },
   "outputs": [
    {
     "name": "stdout",
     "output_type": "stream",
     "text": [
      " TensorFlow version: 2.7.0\n",
      " tf.keras version: 2.7.0\n"
     ]
    }
   ],
   "source": [
    "import numpy as np\n",
    "import matplotlib.pyplot as plt\n",
    "import tensorflow as tf\n",
    "%matplotlib inline\n",
    "\n",
    "print(' TensorFlow version:', tf.__version__)\n",
    "print(' tf.keras version:', tf.keras.__version__)"
   ]
  },
  {
   "cell_type": "code",
   "execution_count": 2,
   "id": "f0681efa",
   "metadata": {
    "colab": {},
    "colab_type": "code",
    "id": "zphzJlP7MBBc",
    "outputId": "74cbb8fd-858a-4f84-80b0-32673d168602"
   },
   "outputs": [
    {
     "data": {
      "image/png": "[encoded data removed]",
      "text/plain": [
       "<Figure size 432x288 with 1 Axes>"
      ]
     },
     "metadata": {
      "needs_background": "light"
     },
     "output_type": "display_data"
    }
   ],
   "source": [
    "## 랜덤한 회귀용 예제 데이터셋을 만듭니다\n",
    "\n",
    "np.random.seed(0)\n",
    "\n",
    "def make_random_data():\n",
    "    x = np.random.uniform(low=-2, high=2, size=200)\n",
    "    y = []\n",
    "    for t in x:\n",
    "        r = np.random.normal(loc=0.0, \n",
    "                             scale=(0.5 + t*t/3), \n",
    "                             size=None)\n",
    "        y.append(r)\n",
    "    return  x, 1.726*x -0.84 + np.array(y)\n",
    "\n",
    "\n",
    "x, y = make_random_data() \n",
    "\n",
    "plt.plot(x, y, 'o')\n",
    "plt.show()"
   ]
  },
  {
   "cell_type": "code",
   "execution_count": 3,
   "id": "42210a5d",
   "metadata": {
    "colab": {},
    "colab_type": "code",
    "id": "nYm-U2xLMBBo"
   },
   "outputs": [],
   "source": [
    "# 훈련데이터 / 테스트 데이터 나누기\n",
    "x_train, y_train = x[:150], y[:150]\n",
    "x_test, y_test = x[150:], y[150:]\n",
    "\n",
    "x_train = x_train.reshape(x_train.size,1)\n",
    "x_test = x_test.reshape(x_test.size, 1)"
   ]
  },
  {
   "cell_type": "markdown",
   "id": "a47442b6",
   "metadata": {},
   "source": [
    "### 모형의 생성"
   ]
  },
  {
   "cell_type": "code",
   "execution_count": 4,
   "id": "9f6b98e1",
   "metadata": {
    "colab": {},
    "colab_type": "code",
    "id": "RuuAuqqQMBBs"
   },
   "outputs": [],
   "source": [
    "model = tf.keras.Sequential()\n",
    "\n",
    "model.add(tf.keras.layers.Dense(units=1, input_dim=1))"
   ]
  },
  {
   "cell_type": "code",
   "execution_count": 5,
   "id": "6e612e1f",
   "metadata": {
    "colab": {},
    "colab_type": "code",
    "id": "RZoDGJ0eMBBv",
    "outputId": "e392ea9b-e770-4a77-f4ce-db84bb796562",
    "scrolled": true
   },
   "outputs": [
    {
     "name": "stdout",
     "output_type": "stream",
     "text": [
      "Model: \"sequential\"\n",
      "_________________________________________________________________\n",
      " Layer (type)                Output Shape              Param #   \n",
      "=================================================================\n",
      " dense (Dense)               (None, 1)                 2         \n",
      "                                                                 \n",
      "=================================================================\n",
      "Total params: 2\n",
      "Trainable params: 2\n",
      "Non-trainable params: 0\n",
      "_________________________________________________________________\n"
     ]
    }
   ],
   "source": [
    "model.summary()"
   ]
  },
  {
   "cell_type": "markdown",
   "id": "c96551e5",
   "metadata": {},
   "source": [
    "## 모형의 훈련\n",
    "\n",
    "세 가지 유형의 모형은 모두 간단한 compile 및 fit 명령어를 사용하여 컴파일 및 훈련 가능하다. "
   ]
  },
  {
   "cell_type": "markdown",
   "id": "88979b15",
   "metadata": {
    "colab_type": "text",
    "id": "gJQkCtZWMBBy"
   },
   "source": [
    "**compile()메서드** \n",
    "\n",
    "\n",
    "* `loss = 'mse'` 에서 회귀문제를 위해 평균제곱오차를 손실함수로 설정한다.\n",
    "* 다중 클래스 분류 문제를 위해서는 `categorical_crossentropy`, 이진 분류에서는 `binary_crossentropy`를 사용한다.\n",
    "* `optimizer='sgd'` 경사하강법 옵티마이저를 정한다. SGD 이외에도 여러가지가 있다.\n",
    "\n",
    "참고) https://www.tensorflow.org/api_docs/python/tf/keras/Model#compile"
   ]
  },
  {
   "cell_type": "code",
   "execution_count": 6,
   "id": "815d5e2a",
   "metadata": {
    "colab": {},
    "colab_type": "code",
    "id": "XRtJ1X9TMBBy",
    "outputId": "b54a6eb1-b088-460e-f4ca-518113061265",
    "scrolled": false
   },
   "outputs": [],
   "source": [
    "model.compile(optimizer='sgd', loss='mse')"
   ]
  },
  {
   "cell_type": "markdown",
   "id": "ef246900",
   "metadata": {
    "colab_type": "text",
    "id": "eDvJGJ8MMBB2"
   },
   "source": [
    "**fit()메서드**\n",
    "\n",
    "* `validation_split=0.3` : 검증데이터 크기를  30%로 한다.\n",
    "* `history` : 히스토리 객체는 epoch마다 계산한 손실 함수 값이 저장되어 있다. \n",
    "* 훈련세트에 대한 손실 함수값은 `'loss'` 키에 담겨 있다.\n",
    "\n",
    "참고) https://www.tensorflow.org/api_docs/python/tf/keras/Model#fit"
   ]
  },
  {
   "cell_type": "code",
   "execution_count": 7,
   "id": "0c20010e",
   "metadata": {},
   "outputs": [
    {
     "name": "stdout",
     "output_type": "stream",
     "text": [
      "Epoch 1/100\n",
      "4/4 [==============================] - 0s 31ms/step - loss: 14.3083 - val_loss: 8.7534\n",
      "Epoch 2/100\n",
      "4/4 [==============================] - 0s 6ms/step - loss: 11.7670 - val_loss: 7.1957\n",
      "Epoch 3/100\n",
      "4/4 [==============================] - 0s 7ms/step - loss: 9.5618 - val_loss: 6.0078\n",
      "Epoch 4/100\n",
      "4/4 [==============================] - 0s 6ms/step - loss: 7.8370 - val_loss: 5.0493\n",
      "Epoch 5/100\n",
      "4/4 [==============================] - 0s 6ms/step - loss: 6.4672 - val_loss: 4.2971\n",
      "Epoch 6/100\n",
      "4/4 [==============================] - 0s 6ms/step - loss: 5.3736 - val_loss: 3.5950\n",
      "Epoch 7/100\n",
      "4/4 [==============================] - 0s 6ms/step - loss: 4.3713 - val_loss: 3.0807\n",
      "Epoch 8/100\n",
      "4/4 [==============================] - 0s 6ms/step - loss: 3.6580 - val_loss: 2.6744\n",
      "Epoch 9/100\n",
      "4/4 [==============================] - 0s 6ms/step - loss: 3.0960 - val_loss: 2.3421\n",
      "Epoch 10/100\n",
      "4/4 [==============================] - 0s 6ms/step - loss: 2.6203 - val_loss: 2.0811\n",
      "Epoch 11/100\n",
      "4/4 [==============================] - 0s 6ms/step - loss: 2.2697 - val_loss: 1.8709\n",
      "Epoch 12/100\n",
      "4/4 [==============================] - 0s 6ms/step - loss: 1.9735 - val_loss: 1.7000\n",
      "Epoch 13/100\n",
      "4/4 [==============================] - 0s 6ms/step - loss: 1.7459 - val_loss: 1.5623\n",
      "Epoch 14/100\n",
      "4/4 [==============================] - 0s 6ms/step - loss: 1.5609 - val_loss: 1.4408\n",
      "Epoch 15/100\n",
      "4/4 [==============================] - 0s 6ms/step - loss: 1.3993 - val_loss: 1.3433\n",
      "Epoch 16/100\n",
      "4/4 [==============================] - 0s 6ms/step - loss: 1.2729 - val_loss: 1.2587\n",
      "Epoch 17/100\n",
      "4/4 [==============================] - 0s 6ms/step - loss: 1.1656 - val_loss: 1.2070\n",
      "Epoch 18/100\n",
      "4/4 [==============================] - 0s 6ms/step - loss: 1.0923 - val_loss: 1.1579\n",
      "Epoch 19/100\n",
      "4/4 [==============================] - 0s 6ms/step - loss: 1.0311 - val_loss: 1.1136\n",
      "Epoch 20/100\n",
      "4/4 [==============================] - 0s 6ms/step - loss: 0.9699 - val_loss: 1.0805\n",
      "Epoch 21/100\n",
      "4/4 [==============================] - 0s 6ms/step - loss: 0.9327 - val_loss: 1.0491\n",
      "Epoch 22/100\n",
      "4/4 [==============================] - 0s 6ms/step - loss: 0.9007 - val_loss: 1.0329\n",
      "Epoch 23/100\n",
      "4/4 [==============================] - 0s 6ms/step - loss: 0.8801 - val_loss: 1.0093\n",
      "Epoch 24/100\n",
      "4/4 [==============================] - 0s 6ms/step - loss: 0.8545 - val_loss: 0.9888\n",
      "Epoch 25/100\n",
      "4/4 [==============================] - 0s 6ms/step - loss: 0.8314 - val_loss: 0.9740\n",
      "Epoch 26/100\n",
      "4/4 [==============================] - 0s 6ms/step - loss: 0.8169 - val_loss: 0.9657\n",
      "Epoch 27/100\n",
      "4/4 [==============================] - 0s 6ms/step - loss: 0.8069 - val_loss: 0.9540\n",
      "Epoch 28/100\n",
      "4/4 [==============================] - 0s 6ms/step - loss: 0.7940 - val_loss: 0.9482\n",
      "Epoch 29/100\n",
      "4/4 [==============================] - 0s 6ms/step - loss: 0.7867 - val_loss: 0.9453\n",
      "Epoch 30/100\n",
      "4/4 [==============================] - 0s 6ms/step - loss: 0.7815 - val_loss: 0.9414\n",
      "Epoch 31/100\n",
      "4/4 [==============================] - 0s 6ms/step - loss: 0.7757 - val_loss: 0.9336\n",
      "Epoch 32/100\n",
      "4/4 [==============================] - 0s 6ms/step - loss: 0.7714 - val_loss: 0.9266\n",
      "Epoch 33/100\n",
      "4/4 [==============================] - 0s 6ms/step - loss: 0.7673 - val_loss: 0.9266\n",
      "Epoch 34/100\n",
      "4/4 [==============================] - 0s 7ms/step - loss: 0.7644 - val_loss: 0.9221\n",
      "Epoch 35/100\n",
      "4/4 [==============================] - 0s 6ms/step - loss: 0.7632 - val_loss: 0.9219\n",
      "Epoch 36/100\n",
      "4/4 [==============================] - 0s 6ms/step - loss: 0.7622 - val_loss: 0.9175\n",
      "Epoch 37/100\n",
      "4/4 [==============================] - 0s 6ms/step - loss: 0.7612 - val_loss: 0.9100\n",
      "Epoch 38/100\n",
      "4/4 [==============================] - 0s 6ms/step - loss: 0.7590 - val_loss: 0.9156\n",
      "Epoch 39/100\n",
      "4/4 [==============================] - 0s 6ms/step - loss: 0.7593 - val_loss: 0.9220\n",
      "Epoch 40/100\n",
      "4/4 [==============================] - 0s 6ms/step - loss: 0.7627 - val_loss: 0.9279\n",
      "Epoch 41/100\n",
      "4/4 [==============================] - 0s 6ms/step - loss: 0.7624 - val_loss: 0.9251\n",
      "Epoch 42/100\n",
      "4/4 [==============================] - 0s 6ms/step - loss: 0.7601 - val_loss: 0.9226\n",
      "Epoch 43/100\n",
      "4/4 [==============================] - 0s 6ms/step - loss: 0.7594 - val_loss: 0.9168\n",
      "Epoch 44/100\n",
      "4/4 [==============================] - 0s 6ms/step - loss: 0.7582 - val_loss: 0.9136\n",
      "Epoch 45/100\n",
      "4/4 [==============================] - 0s 6ms/step - loss: 0.7578 - val_loss: 0.9103\n",
      "Epoch 46/100\n",
      "4/4 [==============================] - 0s 6ms/step - loss: 0.7574 - val_loss: 0.9115\n",
      "Epoch 47/100\n",
      "4/4 [==============================] - 0s 6ms/step - loss: 0.7565 - val_loss: 0.9084\n",
      "Epoch 48/100\n",
      "4/4 [==============================] - 0s 6ms/step - loss: 0.7561 - val_loss: 0.9066\n",
      "Epoch 49/100\n",
      "4/4 [==============================] - 0s 6ms/step - loss: 0.7584 - val_loss: 0.9053\n",
      "Epoch 50/100\n",
      "4/4 [==============================] - 0s 6ms/step - loss: 0.7570 - val_loss: 0.9067\n",
      "Epoch 51/100\n",
      "4/4 [==============================] - 0s 7ms/step - loss: 0.7572 - val_loss: 0.9039\n",
      "Epoch 52/100\n",
      "4/4 [==============================] - 0s 6ms/step - loss: 0.7573 - val_loss: 0.8996\n",
      "Epoch 53/100\n",
      "4/4 [==============================] - 0s 7ms/step - loss: 0.7558 - val_loss: 0.8987\n",
      "Epoch 54/100\n",
      "4/4 [==============================] - ETA: 0s - loss: 1.074 - 0s 6ms/step - loss: 0.7571 - val_loss: 0.8963\n",
      "Epoch 55/100\n",
      "4/4 [==============================] - 0s 6ms/step - loss: 0.7563 - val_loss: 0.8965\n",
      "Epoch 56/100\n",
      "4/4 [==============================] - 0s 6ms/step - loss: 0.7567 - val_loss: 0.8947\n",
      "Epoch 57/100\n",
      "4/4 [==============================] - 0s 6ms/step - loss: 0.7575 - val_loss: 0.8996\n",
      "Epoch 58/100\n",
      "4/4 [==============================] - 0s 6ms/step - loss: 0.7562 - val_loss: 0.9000\n",
      "Epoch 59/100\n",
      "4/4 [==============================] - 0s 6ms/step - loss: 0.7562 - val_loss: 0.8986\n",
      "Epoch 60/100\n",
      "4/4 [==============================] - 0s 6ms/step - loss: 0.7563 - val_loss: 0.9038\n",
      "Epoch 61/100\n",
      "4/4 [==============================] - 0s 6ms/step - loss: 0.7575 - val_loss: 0.9016\n",
      "Epoch 62/100\n",
      "4/4 [==============================] - 0s 6ms/step - loss: 0.7566 - val_loss: 0.9013\n",
      "Epoch 63/100\n",
      "4/4 [==============================] - 0s 6ms/step - loss: 0.7562 - val_loss: 0.8979\n",
      "Epoch 64/100\n",
      "4/4 [==============================] - 0s 6ms/step - loss: 0.7564 - val_loss: 0.8964\n",
      "Epoch 65/100\n",
      "4/4 [==============================] - 0s 6ms/step - loss: 0.7563 - val_loss: 0.8983\n",
      "Epoch 66/100\n",
      "4/4 [==============================] - 0s 6ms/step - loss: 0.7561 - val_loss: 0.8968\n",
      "Epoch 67/100\n",
      "4/4 [==============================] - 0s 6ms/step - loss: 0.7564 - val_loss: 0.8923\n",
      "Epoch 68/100\n",
      "4/4 [==============================] - 0s 6ms/step - loss: 0.7574 - val_loss: 0.8944\n",
      "Epoch 69/100\n",
      "4/4 [==============================] - 0s 6ms/step - loss: 0.7568 - val_loss: 0.8968\n",
      "Epoch 70/100\n",
      "4/4 [==============================] - 0s 6ms/step - loss: 0.7568 - val_loss: 0.9008\n",
      "Epoch 71/100\n",
      "4/4 [==============================] - 0s 6ms/step - loss: 0.7563 - val_loss: 0.8994\n",
      "Epoch 72/100\n",
      "4/4 [==============================] - 0s 6ms/step - loss: 0.7565 - val_loss: 0.8979\n",
      "Epoch 73/100\n",
      "4/4 [==============================] - 0s 6ms/step - loss: 0.7588 - val_loss: 0.8980\n",
      "Epoch 74/100\n",
      "4/4 [==============================] - 0s 6ms/step - loss: 0.7564 - val_loss: 0.9001\n",
      "Epoch 75/100\n",
      "4/4 [==============================] - 0s 6ms/step - loss: 0.7559 - val_loss: 0.9011\n",
      "Epoch 76/100\n",
      "4/4 [==============================] - 0s 6ms/step - loss: 0.7581 - val_loss: 0.9015\n",
      "Epoch 77/100\n",
      "4/4 [==============================] - 0s 6ms/step - loss: 0.7561 - val_loss: 0.9069\n",
      "Epoch 78/100\n",
      "4/4 [==============================] - 0s 6ms/step - loss: 0.7565 - val_loss: 0.9052\n",
      "Epoch 79/100\n",
      "4/4 [==============================] - 0s 6ms/step - loss: 0.7568 - val_loss: 0.9033\n",
      "Epoch 80/100\n",
      "4/4 [==============================] - 0s 6ms/step - loss: 0.7570 - val_loss: 0.8999\n",
      "Epoch 81/100\n",
      "4/4 [==============================] - 0s 6ms/step - loss: 0.7559 - val_loss: 0.9005\n",
      "Epoch 82/100\n",
      "4/4 [==============================] - 0s 6ms/step - loss: 0.7564 - val_loss: 0.8989\n",
      "Epoch 83/100\n",
      "4/4 [==============================] - 0s 6ms/step - loss: 0.7566 - val_loss: 0.8947\n",
      "Epoch 84/100\n"
     ]
    },
    {
     "name": "stdout",
     "output_type": "stream",
     "text": [
      "4/4 [==============================] - 0s 6ms/step - loss: 0.7576 - val_loss: 0.8964\n",
      "Epoch 85/100\n",
      "4/4 [==============================] - 0s 6ms/step - loss: 0.7565 - val_loss: 0.8938\n",
      "Epoch 86/100\n",
      "4/4 [==============================] - 0s 6ms/step - loss: 0.7564 - val_loss: 0.8954\n",
      "Epoch 87/100\n",
      "4/4 [==============================] - 0s 6ms/step - loss: 0.7561 - val_loss: 0.8961\n",
      "Epoch 88/100\n",
      "4/4 [==============================] - 0s 6ms/step - loss: 0.7567 - val_loss: 0.8996\n",
      "Epoch 89/100\n",
      "4/4 [==============================] - 0s 6ms/step - loss: 0.7569 - val_loss: 0.8991\n",
      "Epoch 90/100\n",
      "4/4 [==============================] - 0s 6ms/step - loss: 0.7577 - val_loss: 0.8960\n",
      "Epoch 91/100\n",
      "4/4 [==============================] - 0s 6ms/step - loss: 0.7571 - val_loss: 0.8957\n",
      "Epoch 92/100\n",
      "4/4 [==============================] - 0s 6ms/step - loss: 0.7572 - val_loss: 0.8945\n",
      "Epoch 93/100\n",
      "4/4 [==============================] - 0s 6ms/step - loss: 0.7571 - val_loss: 0.8935\n",
      "Epoch 94/100\n",
      "4/4 [==============================] - 0s 6ms/step - loss: 0.7576 - val_loss: 0.8920\n",
      "Epoch 95/100\n",
      "4/4 [==============================] - 0s 6ms/step - loss: 0.7597 - val_loss: 0.8882\n",
      "Epoch 96/100\n",
      "4/4 [==============================] - 0s 6ms/step - loss: 0.7582 - val_loss: 0.8889\n",
      "Epoch 97/100\n",
      "4/4 [==============================] - 0s 6ms/step - loss: 0.7579 - val_loss: 0.8881\n",
      "Epoch 98/100\n",
      "4/4 [==============================] - 0s 6ms/step - loss: 0.7587 - val_loss: 0.8878\n",
      "Epoch 99/100\n",
      "4/4 [==============================] - 0s 6ms/step - loss: 0.7593 - val_loss: 0.8894\n",
      "Epoch 100/100\n",
      "4/4 [==============================] - 0s 6ms/step - loss: 0.7582 - val_loss: 0.8895\n"
     ]
    }
   ],
   "source": [
    "history = model.fit(x_train, y_train, epochs=100, \n",
    "                    validation_split=0.3)"
   ]
  },
  {
   "cell_type": "markdown",
   "id": "720710aa",
   "metadata": {},
   "source": [
    "### 훈련 결과 확인\n",
    "\n",
    "fit 메소드를 수행한 결과로 history 객체에는 각 epoch 마다 계산된 손실 함수 값이 저장되어 있다. 이를 시각화하여 훈련 결과를 확인할 수 있다."
   ]
  },
  {
   "cell_type": "code",
   "execution_count": 8,
   "id": "21c308ef",
   "metadata": {
    "colab": {},
    "colab_type": "code",
    "id": "oxVh-qtcMBB2",
    "outputId": "4b292c46-edaf-4592-c2a4-0678093d4575"
   },
   "outputs": [
    {
     "data": {
      "image/png": "[encoded data removed]",
      "text/plain": [
       "<Figure size 432x288 with 1 Axes>"
      ]
     },
     "metadata": {
      "needs_background": "light"
     },
     "output_type": "display_data"
    }
   ],
   "source": [
    "epochs = np.arange(1, 100+1)\n",
    "plt.plot(epochs, history.history['loss'], label='Training loss')\n",
    "plt.plot(epochs, history.history['val_loss'], label='Validation loss') # validation loss\n",
    "plt.xlabel('Epochs')\n",
    "plt.ylabel('Loss')\n",
    "plt.legend()\n",
    "plt.show()"
   ]
  },
  {
   "cell_type": "markdown",
   "id": "cefa50ff",
   "metadata": {
    "colab_type": "text",
    "id": "bZavGNBsMBCF"
   },
   "source": [
    "### tf.keras 모델의 저장과 복원"
   ]
  },
  {
   "cell_type": "code",
   "execution_count": 9,
   "id": "ae4482a5",
   "metadata": {
    "colab": {},
    "colab_type": "code",
    "id": "vwBhqM96MBCG"
   },
   "outputs": [],
   "source": [
    "model.save_weights('simple_weights.h5')"
   ]
  },
  {
   "cell_type": "code",
   "execution_count": 15,
   "id": "b32728cc",
   "metadata": {
    "colab": {},
    "colab_type": "code",
    "id": "qD8DXXJIMBCI"
   },
   "outputs": [],
   "source": [
    "model = tf.keras.Sequential()\n",
    "model.add(tf.keras.layers.Dense(units=1, input_dim=1))\n",
    "model.compile(loss='mean_squared_error',\n",
    "              optimizer=tf.keras.optimizers.SGD(learning_rate=0.01))\n",
    "\n",
    "model.load_weights('simple_weights.h5')"
   ]
  },
  {
   "cell_type": "code",
   "execution_count": 11,
   "id": "47bf0349",
   "metadata": {
    "colab": {},
    "colab_type": "code",
    "id": "qBKu4oclMBCL",
    "outputId": "5c92e487-3635-4f36-9116-980b2692e05d"
   },
   "outputs": [
    {
     "name": "stdout",
     "output_type": "stream",
     "text": [
      "2/2 [==============================] - 0s 1ms/step - loss: 0.9550\n"
     ]
    },
    {
     "data": {
      "text/plain": [
       "0.9549922347068787"
      ]
     },
     "execution_count": 11,
     "metadata": {},
     "output_type": "execute_result"
    }
   ],
   "source": [
    "model.evaluate(x_test, y_test)"
   ]
  },
  {
   "cell_type": "code",
   "execution_count": 12,
   "id": "242b5f05",
   "metadata": {
    "colab": {},
    "colab_type": "code",
    "id": "2rk-SSc6MBCN"
   },
   "outputs": [],
   "source": [
    "model.save('simple_model.h5')"
   ]
  },
  {
   "cell_type": "code",
   "execution_count": 13,
   "id": "a1103483",
   "metadata": {
    "colab": {},
    "colab_type": "code",
    "id": "p62Xwo8UMBCQ",
    "outputId": "eab37088-d7b4-4846-d926-81cb70deabb1"
   },
   "outputs": [
    {
     "name": "stdout",
     "output_type": "stream",
     "text": [
      "2/2 [==============================] - 0s 1ms/step - loss: 0.9550\n"
     ]
    },
    {
     "data": {
      "text/plain": [
       "0.9549922347068787"
      ]
     },
     "execution_count": 13,
     "metadata": {},
     "output_type": "execute_result"
    }
   ],
   "source": [
    "model = tf.keras.models.load_model('simple_model.h5')\n",
    "model.evaluate(x_test, y_test)"
   ]
  },
  {
   "cell_type": "markdown",
   "id": "fb14ce00",
   "metadata": {},
   "source": [
    "### 회귀 직선식을 시각화하여 출력한다."
   ]
  },
  {
   "cell_type": "code",
   "execution_count": 14,
   "id": "1ed78199",
   "metadata": {
    "colab": {},
    "colab_type": "code",
    "id": "DjBKbZf9MBCT",
    "outputId": "118fcea0-db7f-495c-8d18-bd0ca8b440be"
   },
   "outputs": [
    {
     "data": {
      "image/png": "[encoded data removed]",
      "text/plain": [
       "<Figure size 432x288 with 1 Axes>"
      ]
     },
     "metadata": {
      "needs_background": "light"
     },
     "output_type": "display_data"
    }
   ],
   "source": [
    "# 짙은 색은 훈련데이터, 밝은 색은 테스트 데이터\n",
    "x_arr = np.arange(-2, 2, 0.1)\n",
    "y_arr = model.predict(x_arr)\n",
    "\n",
    "plt.figure()\n",
    "plt.plot(x_train, y_train, 'bo')\n",
    "plt.plot(x_test, y_test, 'bo', alpha=0.3)\n",
    "plt.plot(x_arr, y_arr, '-r', lw=3)\n",
    "plt.show()"
   ]
  },
  {
   "cell_type": "code",
   "execution_count": null,
   "id": "077e9f99",
   "metadata": {},
   "outputs": [],
   "source": []
  }
 ],
 "metadata": {
  "kernelspec": {
   "display_name": "Python 3 (ipykernel)",
   "language": "python",
   "name": "python3"
  },
  "language_info": {
   "codemirror_mode": {
    "name": "ipython",
    "version": 3
   },
   "file_extension": ".py",
   "mimetype": "text/x-python",
   "name": "python",
   "nbconvert_exporter": "python",
   "pygments_lexer": "ipython3",
   "version": "3.9.7"
  }
 },
 "nbformat": 4,
 "nbformat_minor": 5
}
