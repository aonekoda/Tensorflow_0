{
 "cells": [
  {
   "cell_type": "markdown",
   "metadata": {},
   "source": [
    "# Keras 기반의 표준화: TensorFlow 2.0의 고수준 API\n",
    "\n",
    "\n",
    "Keras는 머신러닝 모델을 정의하고 훈련하기 위한 API 표준이다.\n",
    "\n",
    "\n",
    "\n",
    "Keras는 딥 러닝 모델의 빌드와 훈련을 위한 고수준 API로, 매우 큰 인기를 끌고 있다. Keras는 빠른 프로토타입 개발, 최첨단 분야 연구, 생산 분야에 사용된다. TensorFlow는 현재 Keras를 지원하지만, 2.0 버전에서는 Keras를 TensorFlow 플랫폼의 나머지 부분과 더욱 밀접하게 통합하게 되었다.\n",
    "Keras를 TensorFlow용 고수준 API로 확립함으로써, 머신러닝을 처음 시도하는 개발자가 TensorFlow로 더 쉽게 시작할 수 있도록 해준다. 고수준 API가 하나로 통합되면 혼란이 줄고 연구자를 위한 고급 기능을 제공하는 데 집중할 수 있다.\n",
    "\n",
    "\n",
    "### Keras의 장점\n",
    "* 사용자 친화적: 일반적인 사용 사례에 맞춰 최적화된 Keras의 인터페이스는 간단하고 일관성이 있다. \n",
    "* 모듈식, 구성 가능: 기본 구성 요소를 함께 연결하는 방식으로 모형을 생성할 수 있다. \n",
    "* 손쉬운 확장: 새로운 계층, 손실 함수 등을 비롯하여, 연구를 위한 새로운 아이디어를 표현하는 맞춤 기본 구성 요소를 작성할 수 있다.\n",
    "* 초보자와 전문가에게 모두 유용: Keras는 초보 개발자든 오랜 경험을 보유한 전문가든 상관없이 모두에게 유용한 API를 제공한다.\n",
    "\n",
    "### Keras API 개요\n",
    "\n",
    "* Sequential API\n",
    "* Functional API\n",
    "* Model Subclassing API"
   ]
  },
  {
   "cell_type": "markdown",
   "metadata": {},
   "source": [
    "필요한 라이브러리를 임포트하고 실습에 필요한 샘플 데이터셋을 생성한다."
   ]
  },
  {
   "cell_type": "code",
   "execution_count": 1,
   "metadata": {
    "colab": {},
    "colab_type": "code",
    "id": "kH4-vVI5MBBV",
    "outputId": "fff3f54f-fb88-4682-85b1-b3574f89afce"
   },
   "outputs": [
    {
     "name": "stdout",
     "output_type": "stream",
     "text": [
      " TensorFlow version: 2.7.0\n",
      " tf.keras version: 2.7.0\n"
     ]
    }
   ],
   "source": [
    "import numpy as np\n",
    "import matplotlib.pyplot as plt\n",
    "import tensorflow as tf\n",
    "%matplotlib inline\n",
    "\n",
    "print(' TensorFlow version:', tf.__version__)\n",
    "print(' tf.keras version:', tf.keras.__version__)"
   ]
  },
  {
   "cell_type": "code",
   "execution_count": 2,
   "metadata": {
    "colab": {},
    "colab_type": "code",
    "id": "zphzJlP7MBBc",
    "outputId": "74cbb8fd-858a-4f84-80b0-32673d168602"
   },
   "outputs": [
    {
     "data": {
      "image/png": "[encoded data removed]",
      "text/plain": [
       "<Figure size 432x288 with 1 Axes>"
      ]
     },
     "metadata": {
      "needs_background": "light"
     },
     "output_type": "display_data"
    }
   ],
   "source": [
    "## 랜덤한 회귀용 예제 데이터셋을 만듭니다\n",
    "\n",
    "np.random.seed(0)\n",
    "\n",
    "def make_random_data():\n",
    "    x = np.random.uniform(low=-2, high=2, size=200)\n",
    "    y = []\n",
    "    for t in x:\n",
    "        r = np.random.normal(loc=0.0, \n",
    "                             scale=(0.5 + t*t/3), \n",
    "                             size=None)\n",
    "        y.append(r)\n",
    "    return  x, 1.726*x -0.84 + np.array(y)\n",
    "\n",
    "\n",
    "x, y = make_random_data() \n",
    "\n",
    "plt.plot(x, y, 'o')\n",
    "plt.show()"
   ]
  },
  {
   "cell_type": "code",
   "execution_count": 3,
   "metadata": {
    "colab": {},
    "colab_type": "code",
    "id": "nYm-U2xLMBBo"
   },
   "outputs": [],
   "source": [
    "# 훈련데이터 / 테스트 데이터 나누기\n",
    "x_train, y_train = x[:150], y[:150]\n",
    "x_test, y_test = x[150:], y[150:]\n",
    "\n",
    "x_train = x_train.reshape(x_train.size,1)\n",
    "x_test = x_test.reshape(x_test.size, 1)"
   ]
  },
  {
   "cell_type": "markdown",
   "metadata": {
    "colab_type": "text",
    "id": "RSD_KrYUMBBb"
   },
   "source": [
    "## Sequential API\n",
    "\n",
    "초보의 경우 tf.keras Sequential API로 시작할 것을 권장한다. 사실상 ML 문제의 95% 정도에 적합한 API이기 때문이다. 매우 간단하고 짧은 코드로 모형을 생성할 수 있다.\n",
    "\n",
    "### tf.keras Sequential 모델\n",
    "\n",
    "Sequential 모델은 순서대로 층을 쌓아 모형을 생성한다. \n",
    "\n",
    "* Dense 층은 완전 연결층이다. \n",
    "\n",
    "* 이 예제에서는 간단한 y = wx + b 형태의 회귀 모형을 구현한다. 1차원 데이터 셋으로 출력 유닛 하나를 가진 간단한 완전 연결층 하나를 추가한다.\n",
    "\n",
    "* 회귀모형이므로 마지막 출력층의 활성화 함수를 설정하지 않는다. \n",
    "\n",
    "* activation 파라미터의 기본은 None이다. sigmoid, tanh, relu를 지정 가능하다.\n",
    "\n",
    "\n",
    "참고) https://www.tensorflow.org/guide/keras#build_a_simple_model \n"
   ]
  },
  {
   "cell_type": "code",
   "execution_count": 4,
   "metadata": {
    "colab": {},
    "colab_type": "code",
    "id": "RuuAuqqQMBBs"
   },
   "outputs": [],
   "source": [
    "model = tf.keras.Sequential()\n",
    "\n",
    "model.add(tf.keras.layers.Dense(units=1, input_dim=1))"
   ]
  },
  {
   "cell_type": "code",
   "execution_count": 5,
   "metadata": {
    "colab": {},
    "colab_type": "code",
    "id": "RZoDGJ0eMBBv",
    "outputId": "e392ea9b-e770-4a77-f4ce-db84bb796562"
   },
   "outputs": [
    {
     "name": "stdout",
     "output_type": "stream",
     "text": [
      "Model: \"sequential\"\n",
      "_________________________________________________________________\n",
      " Layer (type)                Output Shape              Param #   \n",
      "=================================================================\n",
      " dense (Dense)               (None, 1)                 2         \n",
      "                                                                 \n",
      "=================================================================\n",
      "Total params: 2\n",
      "Trainable params: 2\n",
      "Non-trainable params: 0\n",
      "_________________________________________________________________\n"
     ]
    }
   ],
   "source": [
    "model.summary()"
   ]
  },
  {
   "cell_type": "markdown",
   "metadata": {
    "colab_type": "text",
    "id": "c9KI-fYIMBB7"
   },
   "source": [
    "## Functional API\n",
    "\n",
    "다중 입력 및 다중 출력 모델, 공유 계층이 있는 모델 등을 비롯한 사용자가 직접  정의할 수 있게 해주는 Functional API를 사용하여 더욱 복잡한 모델을 빌드할 수 있다.\n",
    "\n",
    "\n",
    "Functional API로 모델을 빌드할 때 계층은 (텐서에서) 호출 가능하고 텐서를 출력으로 반환한다. 그러면 이러한 입력 텐서와 출력 텐서를 사용하여 모델을 정의할 수 있다.\n",
    "\n",
    "\n",
    "### 함수형 API\n",
    "sequential 모델은 층을 순서대로 쌓은 것이다. 보다 복잡한 모형을 만들어야 할 때 tf.keras의 함수형 API를 사용하면 더 다양한 모델을 만들 수 있다. 함수형API를 사용하면 원하는 층을 자유롭게 조합 할 수 있다. \n",
    "\n",
    "\n",
    "참고) https://www.tensorflow.org/guide/keras#functional_api \n"
   ]
  },
  {
   "cell_type": "code",
   "execution_count": 6,
   "metadata": {
    "colab": {},
    "colab_type": "code",
    "id": "WlR4Sps8MBB8",
    "outputId": "3cbea83c-e69d-43fb-c93b-a48b55c4889f"
   },
   "outputs": [
    {
     "name": "stdout",
     "output_type": "stream",
     "text": [
      "Model: \"model\"\n",
      "_________________________________________________________________\n",
      " Layer (type)                Output Shape              Param #   \n",
      "=================================================================\n",
      " input_1 (InputLayer)        [(None, 1)]               0         \n",
      "                                                                 \n",
      " dense_1 (Dense)             (None, 1)                 2         \n",
      "                                                                 \n",
      "=================================================================\n",
      "Total params: 2\n",
      "Trainable params: 2\n",
      "Non-trainable params: 0\n",
      "_________________________________________________________________\n"
     ]
    }
   ],
   "source": [
    "from tensorflow.keras import Model, Input\n",
    "\n",
    "input = tf.keras.Input(shape=(1,))\n",
    "output = tf.keras.layers.Dense(1)(input)\n",
    "\n",
    "model = tf.keras.Model(input, output)\n",
    "\n",
    "model.summary()"
   ]
  },
  {
   "cell_type": "markdown",
   "metadata": {
    "colab_type": "text",
    "id": "Tqot4mrlMBB-"
   },
   "source": [
    "Input layer는 입력데이터를 위한 층으로 훈련할 가중치를 가지고 있지 않다. \n",
    "\n",
    "컴파일하고 훈련하는 단계는 sequential 모델과 동일하다."
   ]
  },
  {
   "cell_type": "markdown",
   "metadata": {},
   "source": [
    "## Model Subclassing API\n",
    "\n",
    "Model Subclassing API를 사용하여 완전 맞춤형 모형을 생성할 수 있다. 클래스 메서드 본문에 자체적인 포워드 패스를 직접 명령형으로 정의한다.\n",
    "\n",
    "\n",
    "이러한 모델은 더 유연하게 모형을 생성 할 수 있지만 디버그하기는 더 어려울 수 있다. \n",
    "\n",
    "참고) https://www.tensorflow.org/guide/keras#model_subclassing"
   ]
  },
  {
   "cell_type": "code",
   "execution_count": 7,
   "metadata": {},
   "outputs": [],
   "source": [
    "class MyModel(tf.keras.Model):\n",
    "    def __init__(self, units=1):\n",
    "        super(MyModel, self).__init__()\n",
    "        # 모형의 layer를 선언\n",
    "        self.dense_1 = tf.keras.layers.Dense(units=units)\n",
    "    def call(self, inputs):\n",
    "        output = self.dense_1(inputs)\n",
    "        return output\n"
   ]
  },
  {
   "cell_type": "code",
   "execution_count": 8,
   "metadata": {},
   "outputs": [
    {
     "name": "stdout",
     "output_type": "stream",
     "text": [
      "Model: \"my_model\"\n",
      "_________________________________________________________________\n",
      " Layer (type)                Output Shape              Param #   \n",
      "=================================================================\n",
      " dense_2 (Dense)             multiple                  2         \n",
      "                                                                 \n",
      "=================================================================\n",
      "Total params: 2\n",
      "Trainable params: 2\n",
      "Non-trainable params: 0\n",
      "_________________________________________________________________\n"
     ]
    }
   ],
   "source": [
    "# Model Subclassing은 앞선 다른 모형(Sequential, functional) 방법과는 다르다.\n",
    "# subclassed model은 call 메소드를 통해 모형이 정의된다.\n",
    "# 입출력의 shape이 첫 테스트 될 때까지 정해지지 않는다. \n",
    "model = MyModel()\n",
    " \n",
    "model.build((None, x_train.size, 1))\n",
    "#model.build((None, x_train.size))\n",
    "model.summary()"
   ]
  },
  {
   "cell_type": "markdown",
   "metadata": {},
   "source": [
    "## 모형의 훈련\n",
    "\n",
    "세 가지 유형의 모형은 모두 간단한 compile 및 fit 명령어를 사용하여 컴파일 및 훈련 가능하다. "
   ]
  },
  {
   "cell_type": "markdown",
   "metadata": {
    "colab_type": "text",
    "id": "gJQkCtZWMBBy"
   },
   "source": [
    "**compile()메서드** \n",
    "\n",
    "\n",
    "* `loss = 'mse'` 에서 회귀문제를 위해 평균제곱오차를 손실함수로 설정한다.\n",
    "* 다중 클래스 분류 문제를 위해서는 `categorical_crossentropy`, 이진 분류에서는 `binary_crossentropy`를 사용한다.\n",
    "* `optimizer='sgd'` 경사하강법 옵티마이저를 정한다. SGD 이외에도 여러가지가 있다.\n",
    "\n",
    "참고) https://www.tensorflow.org/api_docs/python/tf/keras/Model#compile"
   ]
  },
  {
   "cell_type": "code",
   "execution_count": 9,
   "metadata": {
    "colab": {},
    "colab_type": "code",
    "id": "XRtJ1X9TMBBy",
    "outputId": "b54a6eb1-b088-460e-f4ca-518113061265",
    "scrolled": false
   },
   "outputs": [],
   "source": [
    "model.compile(optimizer='sgd', loss='mse')"
   ]
  },
  {
   "cell_type": "markdown",
   "metadata": {
    "colab_type": "text",
    "id": "eDvJGJ8MMBB2"
   },
   "source": [
    "**fit()메서드**\n",
    "\n",
    "* `validation_split=0.3` : 검증데이터 크기를  30%로 한다.\n",
    "* `history` : 히스토리 객체는 epoch마다 계산한 손실 함수 값이 저장되어 있다. \n",
    "* 훈련세트에 대한 손실 함수값은 `'loss'` 키에 담겨 있다.\n",
    "\n",
    "참고) https://www.tensorflow.org/api_docs/python/tf/keras/Model#fit"
   ]
  },
  {
   "cell_type": "code",
   "execution_count": 10,
   "metadata": {},
   "outputs": [
    {
     "name": "stdout",
     "output_type": "stream",
     "text": [
      "Epoch 1/100\n",
      "4/4 [==============================] - 0s 32ms/step - loss: 9.2772 - val_loss: 5.6315\n",
      "Epoch 2/100\n",
      "4/4 [==============================] - 0s 6ms/step - loss: 7.6666 - val_loss: 4.7390\n",
      "Epoch 3/100\n",
      "4/4 [==============================] - 0s 7ms/step - loss: 6.3162 - val_loss: 4.0873\n",
      "Epoch 4/100\n",
      "4/4 [==============================] - 0s 7ms/step - loss: 5.3197 - val_loss: 3.3991\n",
      "Epoch 5/100\n",
      "4/4 [==============================] - 0s 6ms/step - loss: 4.3068 - val_loss: 2.9242\n",
      "Epoch 6/100\n",
      "4/4 [==============================] - 0s 6ms/step - loss: 3.6154 - val_loss: 2.4960\n",
      "Epoch 7/100\n",
      "4/4 [==============================] - 0s 6ms/step - loss: 3.0014 - val_loss: 2.2128\n",
      "Epoch 8/100\n",
      "4/4 [==============================] - 0s 6ms/step - loss: 2.5805 - val_loss: 1.9697\n",
      "Epoch 9/100\n",
      "4/4 [==============================] - 0s 6ms/step - loss: 2.2336 - val_loss: 1.7658\n",
      "Epoch 10/100\n",
      "4/4 [==============================] - 0s 6ms/step - loss: 1.9363 - val_loss: 1.6031\n",
      "Epoch 11/100\n",
      "4/4 [==============================] - 0s 6ms/step - loss: 1.7004 - val_loss: 1.4769\n",
      "Epoch 12/100\n",
      "4/4 [==============================] - 0s 6ms/step - loss: 1.5245 - val_loss: 1.3702\n",
      "Epoch 13/100\n",
      "4/4 [==============================] - 0s 6ms/step - loss: 1.3723 - val_loss: 1.2840\n",
      "Epoch 14/100\n",
      "4/4 [==============================] - 0s 6ms/step - loss: 1.2565 - val_loss: 1.2141\n",
      "Epoch 15/100\n",
      "4/4 [==============================] - 0s 6ms/step - loss: 1.1548 - val_loss: 1.1606\n",
      "Epoch 16/100\n",
      "4/4 [==============================] - 0s 6ms/step - loss: 1.0823 - val_loss: 1.1130\n",
      "Epoch 17/100\n",
      "4/4 [==============================] - 0s 6ms/step - loss: 1.0200 - val_loss: 1.0793\n",
      "Epoch 18/100\n",
      "4/4 [==============================] - 0s 6ms/step - loss: 0.9746 - val_loss: 1.0571\n",
      "Epoch 19/100\n",
      "4/4 [==============================] - 0s 6ms/step - loss: 0.9386 - val_loss: 1.0234\n",
      "Epoch 20/100\n",
      "4/4 [==============================] - 0s 6ms/step - loss: 0.8973 - val_loss: 0.9985\n",
      "Epoch 21/100\n",
      "4/4 [==============================] - 0s 6ms/step - loss: 0.8644 - val_loss: 0.9826\n",
      "Epoch 22/100\n",
      "4/4 [==============================] - 0s 6ms/step - loss: 0.8450 - val_loss: 0.9706\n",
      "Epoch 23/100\n",
      "4/4 [==============================] - 0s 6ms/step - loss: 0.8282 - val_loss: 0.9541\n",
      "Epoch 24/100\n",
      "4/4 [==============================] - ETA: 0s - loss: 0.755 - 0s 6ms/step - loss: 0.8148 - val_loss: 0.9496\n",
      "Epoch 25/100\n",
      "4/4 [==============================] - 0s 6ms/step - loss: 0.8085 - val_loss: 0.9387\n",
      "Epoch 26/100\n",
      "4/4 [==============================] - 0s 6ms/step - loss: 0.7926 - val_loss: 0.9352\n",
      "Epoch 27/100\n",
      "4/4 [==============================] - 0s 6ms/step - loss: 0.7882 - val_loss: 0.9319\n",
      "Epoch 28/100\n",
      "4/4 [==============================] - 0s 6ms/step - loss: 0.7836 - val_loss: 0.9272\n",
      "Epoch 29/100\n",
      "4/4 [==============================] - 0s 6ms/step - loss: 0.7774 - val_loss: 0.9248\n",
      "Epoch 30/100\n",
      "4/4 [==============================] - 0s 6ms/step - loss: 0.7733 - val_loss: 0.9189\n",
      "Epoch 31/100\n",
      "4/4 [==============================] - 0s 6ms/step - loss: 0.7704 - val_loss: 0.9172\n",
      "Epoch 32/100\n",
      "4/4 [==============================] - 0s 6ms/step - loss: 0.7683 - val_loss: 0.9132\n",
      "Epoch 33/100\n",
      "4/4 [==============================] - 0s 6ms/step - loss: 0.7663 - val_loss: 0.9077\n",
      "Epoch 34/100\n",
      "4/4 [==============================] - 0s 6ms/step - loss: 0.7618 - val_loss: 0.9054\n",
      "Epoch 35/100\n",
      "4/4 [==============================] - 0s 6ms/step - loss: 0.7595 - val_loss: 0.9031\n",
      "Epoch 36/100\n",
      "4/4 [==============================] - 0s 6ms/step - loss: 0.7586 - val_loss: 0.9069\n",
      "Epoch 37/100\n",
      "4/4 [==============================] - 0s 6ms/step - loss: 0.7577 - val_loss: 0.9047\n",
      "Epoch 38/100\n",
      "4/4 [==============================] - 0s 6ms/step - loss: 0.7583 - val_loss: 0.9085\n",
      "Epoch 39/100\n",
      "4/4 [==============================] - 0s 6ms/step - loss: 0.7601 - val_loss: 0.9134\n",
      "Epoch 40/100\n",
      "4/4 [==============================] - 0s 6ms/step - loss: 0.7579 - val_loss: 0.9145\n",
      "Epoch 41/100\n",
      "4/4 [==============================] - 0s 6ms/step - loss: 0.7579 - val_loss: 0.9118\n",
      "Epoch 42/100\n",
      "4/4 [==============================] - 0s 6ms/step - loss: 0.7575 - val_loss: 0.9099\n",
      "Epoch 43/100\n",
      "4/4 [==============================] - 0s 6ms/step - loss: 0.7562 - val_loss: 0.9098\n",
      "Epoch 44/100\n",
      "4/4 [==============================] - 0s 6ms/step - loss: 0.7561 - val_loss: 0.9095\n",
      "Epoch 45/100\n",
      "4/4 [==============================] - 0s 6ms/step - loss: 0.7579 - val_loss: 0.9105\n",
      "Epoch 46/100\n",
      "4/4 [==============================] - 0s 6ms/step - loss: 0.7600 - val_loss: 0.9074\n",
      "Epoch 47/100\n",
      "4/4 [==============================] - 0s 6ms/step - loss: 0.7581 - val_loss: 0.9133\n",
      "Epoch 48/100\n",
      "4/4 [==============================] - 0s 6ms/step - loss: 0.7569 - val_loss: 0.9137\n",
      "Epoch 49/100\n",
      "4/4 [==============================] - 0s 6ms/step - loss: 0.7572 - val_loss: 0.9159\n",
      "Epoch 50/100\n",
      "4/4 [==============================] - 0s 6ms/step - loss: 0.7579 - val_loss: 0.9220\n",
      "Epoch 51/100\n",
      "4/4 [==============================] - 0s 6ms/step - loss: 0.7585 - val_loss: 0.9165\n",
      "Epoch 52/100\n",
      "4/4 [==============================] - 0s 7ms/step - loss: 0.7584 - val_loss: 0.9132\n",
      "Epoch 53/100\n",
      "4/4 [==============================] - 0s 6ms/step - loss: 0.7569 - val_loss: 0.9136\n",
      "Epoch 54/100\n",
      "4/4 [==============================] - 0s 6ms/step - loss: 0.7574 - val_loss: 0.9098\n",
      "Epoch 55/100\n",
      "4/4 [==============================] - 0s 6ms/step - loss: 0.7567 - val_loss: 0.9121\n",
      "Epoch 56/100\n",
      "4/4 [==============================] - 0s 6ms/step - loss: 0.7570 - val_loss: 0.9163\n",
      "Epoch 57/100\n",
      "4/4 [==============================] - 0s 6ms/step - loss: 0.7581 - val_loss: 0.9149\n",
      "Epoch 58/100\n",
      "4/4 [==============================] - 0s 6ms/step - loss: 0.7573 - val_loss: 0.9109\n",
      "Epoch 59/100\n",
      "4/4 [==============================] - 0s 6ms/step - loss: 0.7563 - val_loss: 0.9096\n",
      "Epoch 60/100\n",
      "4/4 [==============================] - 0s 6ms/step - loss: 0.7557 - val_loss: 0.9061\n",
      "Epoch 61/100\n",
      "4/4 [==============================] - 0s 6ms/step - loss: 0.7573 - val_loss: 0.9106\n",
      "Epoch 62/100\n",
      "4/4 [==============================] - 0s 6ms/step - loss: 0.7573 - val_loss: 0.9061\n",
      "Epoch 63/100\n",
      "4/4 [==============================] - 0s 6ms/step - loss: 0.7566 - val_loss: 0.9027\n",
      "Epoch 64/100\n",
      "4/4 [==============================] - 0s 6ms/step - loss: 0.7557 - val_loss: 0.9046\n",
      "Epoch 65/100\n",
      "4/4 [==============================] - 0s 6ms/step - loss: 0.7558 - val_loss: 0.9069\n",
      "Epoch 66/100\n",
      "4/4 [==============================] - 0s 6ms/step - loss: 0.7565 - val_loss: 0.9112\n",
      "Epoch 67/100\n",
      "4/4 [==============================] - 0s 6ms/step - loss: 0.7562 - val_loss: 0.9125\n",
      "Epoch 68/100\n",
      "4/4 [==============================] - 0s 6ms/step - loss: 0.7575 - val_loss: 0.9085\n",
      "Epoch 69/100\n",
      "4/4 [==============================] - 0s 6ms/step - loss: 0.7560 - val_loss: 0.9102\n",
      "Epoch 70/100\n",
      "4/4 [==============================] - 0s 6ms/step - loss: 0.7577 - val_loss: 0.9058\n",
      "Epoch 71/100\n",
      "4/4 [==============================] - 0s 6ms/step - loss: 0.7566 - val_loss: 0.9052\n",
      "Epoch 72/100\n",
      "4/4 [==============================] - 0s 5ms/step - loss: 0.7563 - val_loss: 0.9010\n",
      "Epoch 73/100\n",
      "4/4 [==============================] - 0s 6ms/step - loss: 0.7558 - val_loss: 0.8982\n",
      "Epoch 74/100\n",
      "4/4 [==============================] - 0s 6ms/step - loss: 0.7562 - val_loss: 0.8998\n",
      "Epoch 75/100\n",
      "4/4 [==============================] - 0s 6ms/step - loss: 0.7561 - val_loss: 0.8995\n",
      "Epoch 76/100\n",
      "4/4 [==============================] - ETA: 0s - loss: 0.813 - 0s 6ms/step - loss: 0.7561 - val_loss: 0.9026\n",
      "Epoch 77/100\n",
      "4/4 [==============================] - 0s 6ms/step - loss: 0.7564 - val_loss: 0.8985\n",
      "Epoch 78/100\n",
      "4/4 [==============================] - 0s 6ms/step - loss: 0.7564 - val_loss: 0.8949\n",
      "Epoch 79/100\n",
      "4/4 [==============================] - 0s 6ms/step - loss: 0.7561 - val_loss: 0.8970\n",
      "Epoch 80/100\n",
      "4/4 [==============================] - 0s 6ms/step - loss: 0.7571 - val_loss: 0.9015\n",
      "Epoch 81/100\n",
      "4/4 [==============================] - 0s 6ms/step - loss: 0.7559 - val_loss: 0.9025\n",
      "Epoch 82/100\n",
      "4/4 [==============================] - 0s 6ms/step - loss: 0.7580 - val_loss: 0.9044\n",
      "Epoch 83/100\n",
      "4/4 [==============================] - 0s 6ms/step - loss: 0.7560 - val_loss: 0.9039\n",
      "Epoch 84/100\n"
     ]
    },
    {
     "name": "stdout",
     "output_type": "stream",
     "text": [
      "4/4 [==============================] - 0s 6ms/step - loss: 0.7559 - val_loss: 0.9045\n",
      "Epoch 85/100\n",
      "4/4 [==============================] - 0s 6ms/step - loss: 0.7569 - val_loss: 0.9036\n",
      "Epoch 86/100\n",
      "4/4 [==============================] - 0s 6ms/step - loss: 0.7564 - val_loss: 0.9062\n",
      "Epoch 87/100\n",
      "4/4 [==============================] - 0s 6ms/step - loss: 0.7564 - val_loss: 0.9083\n",
      "Epoch 88/100\n",
      "4/4 [==============================] - 0s 6ms/step - loss: 0.7563 - val_loss: 0.9062\n",
      "Epoch 89/100\n",
      "4/4 [==============================] - 0s 6ms/step - loss: 0.7570 - val_loss: 0.9054\n",
      "Epoch 90/100\n",
      "4/4 [==============================] - 0s 6ms/step - loss: 0.7566 - val_loss: 0.9030\n",
      "Epoch 91/100\n",
      "4/4 [==============================] - 0s 6ms/step - loss: 0.7565 - val_loss: 0.9058\n",
      "Epoch 92/100\n",
      "4/4 [==============================] - 0s 6ms/step - loss: 0.7572 - val_loss: 0.9044\n",
      "Epoch 93/100\n",
      "4/4 [==============================] - 0s 6ms/step - loss: 0.7576 - val_loss: 0.9008\n",
      "Epoch 94/100\n",
      "4/4 [==============================] - 0s 6ms/step - loss: 0.7565 - val_loss: 0.9032\n",
      "Epoch 95/100\n",
      "4/4 [==============================] - 0s 6ms/step - loss: 0.7572 - val_loss: 0.8995\n",
      "Epoch 96/100\n",
      "4/4 [==============================] - 0s 6ms/step - loss: 0.7571 - val_loss: 0.8997\n",
      "Epoch 97/100\n",
      "4/4 [==============================] - 0s 6ms/step - loss: 0.7560 - val_loss: 0.9030\n",
      "Epoch 98/100\n",
      "4/4 [==============================] - 0s 6ms/step - loss: 0.7570 - val_loss: 0.9014\n",
      "Epoch 99/100\n",
      "4/4 [==============================] - 0s 6ms/step - loss: 0.7567 - val_loss: 0.9060\n",
      "Epoch 100/100\n",
      "4/4 [==============================] - 0s 6ms/step - loss: 0.7564 - val_loss: 0.9062\n"
     ]
    }
   ],
   "source": [
    "history = model.fit(x_train, y_train, epochs=100, \n",
    "                    validation_split=0.3)"
   ]
  },
  {
   "cell_type": "markdown",
   "metadata": {},
   "source": [
    "### 훈련 결과 확인\n",
    "\n",
    "fit 메소드를 수행한 결과로 history 객체에는 각 epoch 마다 계산된 손실 함수 값이 저장되어 있다. 이를 시각화하여 훈련 결과를 확인할 수 있다."
   ]
  },
  {
   "cell_type": "code",
   "execution_count": 11,
   "metadata": {
    "colab": {},
    "colab_type": "code",
    "id": "oxVh-qtcMBB2",
    "outputId": "4b292c46-edaf-4592-c2a4-0678093d4575"
   },
   "outputs": [
    {
     "data": {
      "image/png": "[encoded data removed]",
      "text/plain": [
       "<Figure size 432x288 with 1 Axes>"
      ]
     },
     "metadata": {
      "needs_background": "light"
     },
     "output_type": "display_data"
    }
   ],
   "source": [
    "epochs = np.arange(1, 100+1)\n",
    "plt.plot(epochs, history.history['loss'], label='Training loss')\n",
    "plt.plot(epochs, history.history['val_loss'], label='Validation loss') # validation loss\n",
    "plt.xlabel('Epochs')\n",
    "plt.ylabel('Loss')\n",
    "plt.legend()\n",
    "plt.show()"
   ]
  },
  {
   "cell_type": "markdown",
   "metadata": {
    "colab_type": "text",
    "id": "bZavGNBsMBCF"
   },
   "source": [
    "### tf.keras 모델의 저장과 복원"
   ]
  },
  {
   "cell_type": "code",
   "execution_count": 12,
   "metadata": {
    "colab": {},
    "colab_type": "code",
    "id": "vwBhqM96MBCG"
   },
   "outputs": [],
   "source": [
    "model.save_weights('simple_weights.h5')"
   ]
  },
  {
   "cell_type": "code",
   "execution_count": 13,
   "metadata": {
    "colab": {},
    "colab_type": "code",
    "id": "qD8DXXJIMBCI"
   },
   "outputs": [
    {
     "name": "stderr",
     "output_type": "stream",
     "text": [
      "C:\\Users\\YGL\\anaconda3\\lib\\site-packages\\keras\\optimizer_v2\\gradient_descent.py:102: UserWarning: The `lr` argument is deprecated, use `learning_rate` instead.\n",
      "  super(SGD, self).__init__(name, **kwargs)\n"
     ]
    }
   ],
   "source": [
    "model = tf.keras.Sequential()\n",
    "model.add(tf.keras.layers.Dense(units=1, input_dim=1))\n",
    "model.compile(loss='mean_squared_error',\n",
    "              optimizer=tf.keras.optimizers.SGD(lr=0.01))\n",
    "\n",
    "model.load_weights('simple_weights.h5')"
   ]
  },
  {
   "cell_type": "code",
   "execution_count": 14,
   "metadata": {
    "colab": {},
    "colab_type": "code",
    "id": "qBKu4oclMBCL",
    "outputId": "5c92e487-3635-4f36-9116-980b2692e05d"
   },
   "outputs": [
    {
     "name": "stdout",
     "output_type": "stream",
     "text": [
      "2/2 [==============================] - 0s 1ms/step - loss: 0.9459\n"
     ]
    },
    {
     "data": {
      "text/plain": [
       "0.9459115862846375"
      ]
     },
     "execution_count": 14,
     "metadata": {},
     "output_type": "execute_result"
    }
   ],
   "source": [
    "model.evaluate(x_test, y_test)"
   ]
  },
  {
   "cell_type": "code",
   "execution_count": 15,
   "metadata": {
    "colab": {},
    "colab_type": "code",
    "id": "2rk-SSc6MBCN"
   },
   "outputs": [],
   "source": [
    "model.save('simple_model.h5')"
   ]
  },
  {
   "cell_type": "code",
   "execution_count": 16,
   "metadata": {
    "colab": {},
    "colab_type": "code",
    "id": "p62Xwo8UMBCQ",
    "outputId": "eab37088-d7b4-4846-d926-81cb70deabb1"
   },
   "outputs": [
    {
     "name": "stdout",
     "output_type": "stream",
     "text": [
      "2/2 [==============================] - 0s 1ms/step - loss: 0.9459\n"
     ]
    },
    {
     "data": {
      "text/plain": [
       "0.9459115862846375"
      ]
     },
     "execution_count": 16,
     "metadata": {},
     "output_type": "execute_result"
    }
   ],
   "source": [
    "model = tf.keras.models.load_model('simple_model.h5')\n",
    "model.evaluate(x_test, y_test)"
   ]
  },
  {
   "cell_type": "markdown",
   "metadata": {},
   "source": [
    "### 회귀 직선식을 시각화하여 출력한다."
   ]
  },
  {
   "cell_type": "code",
   "execution_count": 17,
   "metadata": {
    "colab": {},
    "colab_type": "code",
    "id": "DjBKbZf9MBCT",
    "outputId": "118fcea0-db7f-495c-8d18-bd0ca8b440be"
   },
   "outputs": [
    {
     "data": {
      "image/png": "[encoded data removed]",
      "text/plain": [
       "<Figure size 432x288 with 1 Axes>"
      ]
     },
     "metadata": {
      "needs_background": "light"
     },
     "output_type": "display_data"
    }
   ],
   "source": [
    "# 짙은 색은 훈련데이터, 밝은 색은 테스트 데이터\n",
    "x_arr = np.arange(-2, 2, 0.1)\n",
    "y_arr = model.predict(x_arr)\n",
    "\n",
    "plt.figure()\n",
    "plt.plot(x_train, y_train, 'bo')\n",
    "plt.plot(x_test, y_test, 'bo', alpha=0.3)\n",
    "plt.plot(x_arr, y_arr, '-r', lw=3)\n",
    "plt.show()"
   ]
  }
 ],
 "metadata": {
  "colab": {
   "name": "04tf.Keras.ipynb",
   "provenance": []
  },
  "kernelspec": {
   "display_name": "Python 3 (ipykernel)",
   "language": "python",
   "name": "python3"
  },
  "language_info": {
   "codemirror_mode": {
    "name": "ipython",
    "version": 3
   },
   "file_extension": ".py",
   "mimetype": "text/x-python",
   "name": "python",
   "nbconvert_exporter": "python",
   "pygments_lexer": "ipython3",
   "version": "3.9.7"
  }
 },
 "nbformat": 4,
 "nbformat_minor": 1
}
