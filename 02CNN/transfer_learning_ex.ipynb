{
 "cells": [
  {
   "cell_type": "markdown",
   "metadata": {},
   "source": [
    "# 과제 - Transfer Learning\n",
    "\n",
    "여기서 풀고자 하는 문제는 개미 와 벌 을 분류하는 모델을 학습하는 것이다. \n",
    "\n",
    "개미와 벌 각각의 학습용 이미지는 대략 120장 정도 있고, 75개의 검증용 이미지가 있다. 일반적으로 맨 처음부터 학습을 한다면 이는 일반화하기에는 아주 작은 데이터셋이다. 하지만 Transfer learning을 사용한다면 작은 양의 데이터로도 성능이 좋은 이미지 분류 모형을 생성할 수 있다.\n",
    "\n",
    "---\n",
    "## 데이터 준비하기\n",
    "제공되는 hymenoptera_data.zip 파일을 현재 directory에 압축해제 한다."
   ]
  },
  {
   "cell_type": "code",
   "execution_count": null,
   "metadata": {
    "scrolled": true
   },
   "outputs": [],
   "source": [
    "import tensorflow as tf\n",
    "from tensorflow import keras\n",
    "print(\"TensorFlow version is \", tf.__version__)\n",
    "\n",
    "import os\n",
    "import numpy as np\n",
    "\n",
    "import matplotlib.pyplot as plt\n",
    "import matplotlib.image as mpimg"
   ]
  },
  {
   "cell_type": "code",
   "execution_count": null,
   "metadata": {},
   "outputs": [],
   "source": [
    "train_dir = './hymenoptera_data/train'\n",
    "validation_dir = './hymenoptera_data/val'"
   ]
  },
  {
   "cell_type": "code",
   "execution_count": null,
   "metadata": {},
   "outputs": [],
   "source": [
    "train_ants_dir = os.path.join(train_dir, 'ants')  # directory with our training cat pictures\n",
    "train_bees_dir = os.path.join(train_dir, 'bees')  # directory with our training dog pictures\n",
    "validation_ants_dir = os.path.join(validation_dir, 'ants')  # directory with our validation cat pictures\n",
    "validation_bees_dir = os.path.join(validation_dir, 'bees')  # directory with our validation dog pictures"
   ]
  },
  {
   "cell_type": "code",
   "execution_count": null,
   "metadata": {},
   "outputs": [],
   "source": [
    "num_ants_tr = len(os.listdir(train_ants_dir))\n",
    "num_bees_tr = len(os.listdir(train_bees_dir))\n",
    "\n",
    "num_ants_val = len(os.listdir(validation_ants_dir))\n",
    "num_bees_val = len(os.listdir(validation_bees_dir))\n",
    "\n",
    "print('total training ants images:', num_ants_tr)\n",
    "print('total training bees images:', num_bees_tr)\n",
    "\n",
    "print('total validation ants images:', num_ants_val)\n",
    "print('total validation bees images:', num_bees_val)\n"
   ]
  },
  {
   "cell_type": "markdown",
   "metadata": {},
   "source": [
    "### 문제1.\n",
    "\n",
    "디렉토리의 이미지를 dataset으로 생성한다."
   ]
  },
  {
   "cell_type": "code",
   "execution_count": null,
   "metadata": {},
   "outputs": [],
   "source": [
    "from tensorflow.keras.preprocessing.image import ImageDataGenerator\n",
    "\n",
    "train_datagen = ImageDataGenerator(rescale=1./255) # Generator for our training data\n",
    "validation_datagen = ImageDataGenerator(rescale=1./255) # Generator for our validation data"
   ]
  },
  {
   "cell_type": "code",
   "execution_count": null,
   "metadata": {},
   "outputs": [],
   "source": [
    "image_size = 160 # All images will be resized to 160x160\n",
    "batch_size = None # 적당한 batch size를 정하시오.\n",
    "\n",
    "train_generator = None # data generator의 flow_from_directory메소드를 사용하여 train set을 생성하시오\n",
    "\n",
    "validation_generator = None # data generator의 flow_from_directory메소드를 사용하여 validationset을 생성하시오."
   ]
  },
  {
   "cell_type": "markdown",
   "metadata": {},
   "source": [
    "### 문제 2.\n",
    "\n",
    "pre trained model을 다운로드 한다.  \n",
    "https://www.tensorflow.org/api_docs/python/tf/keras/applications 을 참조하면 다양한 pretrained model을 선택 다운로드 할 수 있다."
   ]
  },
  {
   "cell_type": "code",
   "execution_count": null,
   "metadata": {},
   "outputs": [],
   "source": [
    "image_size = 160\n",
    "IMG_SHAPE = (image_size, image_size, 3)\n",
    "\n",
    "base_model = None # 원하는 pre trained model을 다운로드 하는 코드를 작성하시오."
   ]
  },
  {
   "cell_type": "markdown",
   "metadata": {},
   "source": [
    "> 문제 2-1 해당 pre trained model을 선택한 이유가 무엇인지 간단하게 설명하시오.\n",
    "* 이곳을 더블클릭하여 답변을 작성하시오."
   ]
  },
  {
   "cell_type": "markdown",
   "metadata": {},
   "source": [
    "### 문제 3.\n",
    "\n",
    "선택한 Pre-trained model의 가중치 freeze하시오.\n"
   ]
  },
  {
   "cell_type": "code",
   "execution_count": null,
   "metadata": {},
   "outputs": [],
   "source": [
    "base_model.trainable = None # 해당 코드를 작성하시오."
   ]
  },
  {
   "cell_type": "markdown",
   "metadata": {},
   "source": [
    "### 문제 4. \n",
    "\n",
    "마지막에 이미지 분류를 위한 layer를 추가하시오."
   ]
  },
  {
   "cell_type": "code",
   "execution_count": null,
   "metadata": {},
   "outputs": [],
   "source": [
    "model = None # tf.keras.Sequential 을 사용하여 base_model에 layer를 추가하는 코드를 작성하시오."
   ]
  },
  {
   "cell_type": "markdown",
   "metadata": {},
   "source": [
    "### 문제 5. \n",
    "\n",
    "생성한 모형을 compile 하시오. 적당한 optimizer, loss, metric을 선택하시오."
   ]
  },
  {
   "cell_type": "code",
   "execution_count": null,
   "metadata": {},
   "outputs": [],
   "source": [
    "model.compile(optimizer=None, \n",
    "              loss=None,\n",
    "              metrics=None)"
   ]
  },
  {
   "cell_type": "code",
   "execution_count": null,
   "metadata": {},
   "outputs": [],
   "source": [
    "model.summary()"
   ]
  },
  {
   "cell_type": "markdown",
   "metadata": {},
   "source": [
    "### 문제 6.\n",
    "\n",
    "생성한 모형을 훈련하시오."
   ]
  },
  {
   "cell_type": "code",
   "execution_count": null,
   "metadata": {},
   "outputs": [],
   "source": [
    "epochs = None # 모형을 훈련하기 위한 epochs를 적당히 선택하여 작성하시오.\n",
    "history = model.fit(train_generator,\n",
    "                    epochs=epochs,\n",
    "                    validation_data=validation_generator\n",
    "                   )"
   ]
  },
  {
   "cell_type": "markdown",
   "metadata": {},
   "source": [
    "### 문제 7.\n",
    "\n",
    "훈련된 모형으로 예측을 수행하시오."
   ]
  },
  {
   "cell_type": "code",
   "execution_count": null,
   "metadata": {},
   "outputs": [],
   "source": [
    "imgs, labels = validation_generator.next()\n",
    "\n",
    "# model.predict() 메소드는 확률을 리턴한다. 확률을 class(0=ants, 1=bees)로 리턴하는 코드를 작성하시오.\n",
    "preds = None "
   ]
  },
  {
   "cell_type": "code",
   "execution_count": null,
   "metadata": {},
   "outputs": [],
   "source": [
    "classes = ['ants','bees'] # class의 이름"
   ]
  },
  {
   "cell_type": "code",
   "execution_count": null,
   "metadata": {},
   "outputs": [],
   "source": [
    "# 예측결과를 화면에 출력한다.\n",
    "idx = 10\n",
    "plt.title(\"pred={}(label={})\".format(classes[preds[idx].item()],classes[int(labels[idx])]))\n",
    "plt.imshow(imgs[idx])\n",
    "plt.show()"
   ]
  },
  {
   "cell_type": "markdown",
   "metadata": {},
   "source": [
    "### 문제 8.\n",
    "\n",
    "Transfer Learning 이 무엇인지 간략하게 정리하여 설명하시오."
   ]
  },
  {
   "cell_type": "markdown",
   "metadata": {},
   "source": [
    "> 이곳을 더블클릭하여 답변을 작성하시오."
   ]
  }
 ],
 "metadata": {
  "kernelspec": {
   "display_name": "Python 3",
   "language": "python",
   "name": "python3"
  },
  "language_info": {
   "codemirror_mode": {
    "name": "ipython",
    "version": 3
   },
   "file_extension": ".py",
   "mimetype": "text/x-python",
   "name": "python",
   "nbconvert_exporter": "python",
   "pygments_lexer": "ipython3",
   "version": "3.7.6"
  }
 },
 "nbformat": 4,
 "nbformat_minor": 4
}
