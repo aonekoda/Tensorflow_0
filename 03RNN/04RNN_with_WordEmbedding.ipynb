{
 "cells": [
  {
   "cell_type": "markdown",
   "metadata": {
    "colab_type": "text",
    "id": "euOstqJnKkcA"
   },
   "source": [
    "# Word Embedding \n",
    "---\n",
    "Word2Vec을 구현해 보자.\n",
    "\n",
    "# Word embedding이란? \n",
    "\n",
    "단어 임베딩(Word Embedding)이란 텍스트를 구성하는 하나의 단어를 수치화하는 방법의 일종이다.\n",
    "\n",
    "텍스트에 나타난 단어를 수만개가 될수 있는데 이것을 one-hot encoding 방식으로 처리하는 것은 매우 비효율적이다. 단어를 one-hot vector로 나타내면 대부분 0 값이 된다. hidden layer에서 one-hot input vector와 연산이 대부분 0이 된다.\n",
    "\n",
    "이런 비효율성을 개선하기 위한 것이 embeddings 이다. Embedding layer는 앞서 본 fully connected layer와 같은 형태이다. embedding layer의 weights를 embedding weights라고 한다.\n",
    "\n",
    "matrix multiplication을 수행하는 대신에 weight matrix를 lookup table로 사용한다. words를 integers 로 변환하게 된다. \"heart\" 단어가 958로 encode 되었다면, 해당 hidden layer values는 그냥 embedding matrix에서 958번째 row 를 가져오면 된다. 이것을 embedding lookup 라고 하고 hidden units의 갯수가 embedding dimension이 된다.\n",
    "\n",
    "embedding lookup table은 단순한 weight matrix이고 embedding layer는 hidden layer이다. lookup 은 matrix multiplication을 대체하는 것이다. embedding layer는 weight matrix(=embedding vector)를 학습하게 된다.\n",
    "\n",
    "Word2Vec 은 embedding layer를 통해서 word를 벡터로 표현한다.\n",
    "\n",
    "![IMG](../assets/embedding2.png?raw=1)\n",
    "\n",
    "# Skip-Gram 방식\n",
    "\n",
    "Word2Vec에는 Continous Bag Of Words (CBOW) 와 Skip-Gram의 두 가지 모델이 있다 . Skip-Gram 모델은 중심 단어가 주어진 문맥 단어를 예측하는 반면 CBOW 모델은 문맥 단어로 주어진 중심 단어를 예측한다. \n",
    "\n",
    "* Skip-gram : 소량의 훈련 데이터와 잘 작동하며, 희귀 한 단어 나 문구도 잘 표현한다.\n",
    "\n",
    "* CBOW : 스킵 그램보다 훈련 속도가 빠르고, 빈도가 높은 단어에 대해 약간 더 나은 정확도를 보인다.\n",
    "\n",
    "Skip-Gram 모델의 궁극적 인 목표는 문맥 단어를 예측하는 것이 아니라 단어의 지능적인 벡터 표현을 학습하는 것이다.\n",
    "![IMG](../assets/skipgram.png)\n",
    "![IMG](../assets/word2vec_skip-gram.png)\n",
    "\n",
    "Word2Vec에서 단어는 벡터로 표시되며 **관련 단어는 벡터 공간에서 서로 가깝게 배치**된다. 수학적으로 이것은 **관련 단어 사이의 거리(=Cisine 유사도)**가 관련 없는 단어보다 더 가깝게 배치된다는 것이다. "
   ]
  },
  {
   "cell_type": "code",
   "execution_count": 1,
   "metadata": {
    "colab": {
     "base_uri": "https://localhost:8080/",
     "height": 52
    },
    "colab_type": "code",
    "executionInfo": {
     "elapsed": 9127,
     "status": "ok",
     "timestamp": 1573919632000,
     "user": {
      "displayName": "이선화",
      "photoUrl": "https://lh3.googleusercontent.com/a-/AAuE7mAaVHDHE1MIY1LHmJ_yWOBQMBjk_0EAJ4f0eWo-=s64",
      "userId": "17814374716323603424"
     },
     "user_tz": -540
    },
    "id": "j6i2jodhCtp-",
    "outputId": "2b62ca89-472b-4160-9ad8-1b3299098046"
   },
   "outputs": [
    {
     "name": "stdout",
     "output_type": "stream",
     "text": [
      "2.3.0\n"
     ]
    }
   ],
   "source": [
    "import tensorflow as tf\n",
    "print(tf.__version__)"
   ]
  },
  {
   "cell_type": "markdown",
   "metadata": {
    "colab_type": "text",
    "id": "oRWPdkUIhN26"
   },
   "source": [
    "# 훈련데이터 준비\n",
    "\n",
    "* IMDB 데이터 사용 - Word Embedding은 단어 벡터의 크기를 임의로 조정하므로 사용되는 단어의 갯수에 크게 영향을 받지 않는다.\n",
    "\n",
    "* 이 경우 사용되는 단어의 갯수를 1000으로 한다."
   ]
  },
  {
   "cell_type": "code",
   "execution_count": 2,
   "metadata": {
    "colab": {},
    "colab_type": "code",
    "id": "AagDOCDfcqOq"
   },
   "outputs": [],
   "source": [
    "import numpy as np\n",
    "from tensorflow.keras.datasets import imdb"
   ]
  },
  {
   "cell_type": "code",
   "execution_count": 3,
   "metadata": {
    "colab": {
     "base_uri": "https://localhost:8080/",
     "height": 52
    },
    "colab_type": "code",
    "executionInfo": {
     "elapsed": 16462,
     "status": "ok",
     "timestamp": 1573919639351,
     "user": {
      "displayName": "이선화",
      "photoUrl": "https://lh3.googleusercontent.com/a-/AAuE7mAaVHDHE1MIY1LHmJ_yWOBQMBjk_0EAJ4f0eWo-=s64",
      "userId": "17814374716323603424"
     },
     "user_tz": -540
    },
    "id": "8ZDfoEg_ZE_0",
    "outputId": "162094bd-e79e-4c6f-a16b-d0d5d1864e8d"
   },
   "outputs": [],
   "source": [
    "(x_train_all, y_train_all), (x_test, y_test) = imdb.load_data(skip_top=20, num_words=1000)"
   ]
  },
  {
   "cell_type": "code",
   "execution_count": 4,
   "metadata": {
    "colab": {},
    "colab_type": "code",
    "id": "0Xn2krTqY34v"
   },
   "outputs": [],
   "source": [
    "from tensorflow.keras.layers import Embedding"
   ]
  },
  {
   "cell_type": "code",
   "execution_count": 5,
   "metadata": {
    "colab": {
     "base_uri": "https://localhost:8080/",
     "height": 54
    },
    "colab_type": "code",
    "executionInfo": {
     "elapsed": 1102,
     "status": "ok",
     "timestamp": 1573876798355,
     "user": {
      "displayName": "이선화",
      "photoUrl": "https://lh3.googleusercontent.com/a-/AAuE7mAaVHDHE1MIY1LHmJ_yWOBQMBjk_0EAJ4f0eWo-=s64",
      "userId": "17814374716323603424"
     },
     "user_tz": -540
    },
    "id": "lpORaDiIc8hn",
    "outputId": "54da6c89-ab74-456e-a9cb-48b18217009c"
   },
   "outputs": [
    {
     "name": "stdout",
     "output_type": "stream",
     "text": [
      "[22, 43, 530, 973, 65, 458, 66, 173, 36, 256, 25, 100, 43, 838, 112, 50, 670, 35, 480, 284, 150, 172, 112, 167, 336, 385, 39, 172, 546, 38, 447, 192, 50, 147, 22, 469, 22, 71, 87, 43, 530, 38, 76, 22, 515, 626, 62, 386, 316, 106, 480, 66, 33, 130, 38, 619, 25, 124, 51, 36, 135, 48, 25, 33, 22, 215, 28, 77, 52, 407, 82, 107, 117, 256, 723, 36, 71, 43, 530, 476, 26, 400, 317, 46, 104, 88, 381, 297, 98, 32, 56, 26, 141, 194, 226, 22, 21, 134, 476, 26, 480, 144, 30, 51, 36, 28, 224, 92, 25, 104, 226, 65, 38, 88, 283, 113, 103, 32, 178, 32]\n"
     ]
    }
   ],
   "source": [
    "for i in range(len(x_train_all)):\n",
    "    x_train_all[i] = [w for w in x_train_all[i] if w > 2]\n",
    "\n",
    "print(x_train_all[0])\n"
   ]
  },
  {
   "cell_type": "code",
   "execution_count": 6,
   "metadata": {
    "colab": {
     "base_uri": "https://localhost:8080/",
     "height": 34
    },
    "colab_type": "code",
    "executionInfo": {
     "elapsed": 1952,
     "status": "ok",
     "timestamp": 1573876802890,
     "user": {
      "displayName": "이선화",
      "photoUrl": "https://lh3.googleusercontent.com/a-/AAuE7mAaVHDHE1MIY1LHmJ_yWOBQMBjk_0EAJ4f0eWo-=s64",
      "userId": "17814374716323603424"
     },
     "user_tz": -540
    },
    "id": "dnM909TXdVXl",
    "outputId": "d4cc4b85-693c-422c-a518-eead2d5d9fec"
   },
   "outputs": [
    {
     "name": "stdout",
     "output_type": "stream",
     "text": [
      "(20000,) (5000,)\n"
     ]
    }
   ],
   "source": [
    "from sklearn.model_selection import train_test_split\n",
    "\n",
    "x_train,x_val,y_train,y_val = train_test_split(x_train_all, y_train_all, test_size=0.2, random_state=123)\n",
    "\n",
    "print(x_train.shape, x_val.shape)"
   ]
  },
  {
   "cell_type": "code",
   "execution_count": 7,
   "metadata": {
    "colab": {
     "base_uri": "https://localhost:8080/",
     "height": 34
    },
    "colab_type": "code",
    "executionInfo": {
     "elapsed": 1129,
     "status": "ok",
     "timestamp": 1573876805586,
     "user": {
      "displayName": "이선화",
      "photoUrl": "https://lh3.googleusercontent.com/a-/AAuE7mAaVHDHE1MIY1LHmJ_yWOBQMBjk_0EAJ4f0eWo-=s64",
      "userId": "17814374716323603424"
     },
     "user_tz": -540
    },
    "id": "JxBu41lOdWSw",
    "outputId": "6e13a6ae-b467-4528-eb47-2135f4a7626f"
   },
   "outputs": [
    {
     "name": "stdout",
     "output_type": "stream",
     "text": [
      "(20000, 100) (5000, 100)\n"
     ]
    }
   ],
   "source": [
    "from tensorflow.keras.preprocessing import sequence\n",
    "\n",
    "max_len = 100\n",
    "x_train_seq = sequence.pad_sequences(x_train, maxlen=max_len)\n",
    "x_val_seq = sequence.pad_sequences(x_val, maxlen=max_len)\n",
    "\n",
    "print(x_train_seq.shape, x_val_seq.shape)"
   ]
  },
  {
   "cell_type": "markdown",
   "metadata": {
    "colab_type": "text",
    "id": "d3SWcxgHePO6"
   },
   "source": [
    "# 모형의 생성\n"
   ]
  },
  {
   "cell_type": "code",
   "execution_count": 8,
   "metadata": {
    "colab": {},
    "colab_type": "code",
    "id": "IEBhruXKeTM8"
   },
   "outputs": [],
   "source": [
    "from tensorflow.keras.models import Sequential\n",
    "from tensorflow.keras.layers import Dense, SimpleRNN"
   ]
  },
  {
   "cell_type": "code",
   "execution_count": 9,
   "metadata": {
    "colab": {
     "base_uri": "https://localhost:8080/",
     "height": 263
    },
    "colab_type": "code",
    "executionInfo": {
     "elapsed": 1365,
     "status": "ok",
     "timestamp": 1573876867061,
     "user": {
      "displayName": "이선화",
      "photoUrl": "https://lh3.googleusercontent.com/a-/AAuE7mAaVHDHE1MIY1LHmJ_yWOBQMBjk_0EAJ4f0eWo-=s64",
      "userId": "17814374716323603424"
     },
     "user_tz": -540
    },
    "id": "UyMpeun8dq97",
    "outputId": "5ff4fe2c-540c-4a4e-f8fd-e75ecbb5213f"
   },
   "outputs": [
    {
     "name": "stdout",
     "output_type": "stream",
     "text": [
      "Model: \"sequential\"\n",
      "_________________________________________________________________\n",
      "Layer (type)                 Output Shape              Param #   \n",
      "=================================================================\n",
      "embedding (Embedding)        (None, None, 32)          32000     \n",
      "_________________________________________________________________\n",
      "simple_rnn (SimpleRNN)       (None, 8)                 328       \n",
      "_________________________________________________________________\n",
      "dense (Dense)                (None, 1)                 9         \n",
      "=================================================================\n",
      "Total params: 32,337\n",
      "Trainable params: 32,337\n",
      "Non-trainable params: 0\n",
      "_________________________________________________________________\n"
     ]
    }
   ],
   "source": [
    "model_ebd = Sequential()\n",
    "\n",
    "model_ebd.add(Embedding(1000,32))\n",
    "model_ebd.add(SimpleRNN(8))\n",
    "model_ebd.add(Dense(1, activation='sigmoid'))\n",
    "\n",
    "model_ebd.summary()"
   ]
  },
  {
   "cell_type": "markdown",
   "metadata": {
    "colab_type": "text",
    "id": "J-3SFtHYXxoR"
   },
   "source": [
    "# 모델 컴파일 & 훈련 "
   ]
  },
  {
   "cell_type": "code",
   "execution_count": 10,
   "metadata": {
    "colab": {
     "base_uri": "https://localhost:8080/",
     "height": 386
    },
    "colab_type": "code",
    "executionInfo": {
     "elapsed": 169540,
     "status": "ok",
     "timestamp": 1573877259610,
     "user": {
      "displayName": "이선화",
      "photoUrl": "https://lh3.googleusercontent.com/a-/AAuE7mAaVHDHE1MIY1LHmJ_yWOBQMBjk_0EAJ4f0eWo-=s64",
      "userId": "17814374716323603424"
     },
     "user_tz": -540
    },
    "id": "W6ezESOBX9eD",
    "outputId": "de3da78b-a11a-47d3-efb3-06174a711c91"
   },
   "outputs": [
    {
     "name": "stdout",
     "output_type": "stream",
     "text": [
      "Epoch 1/10\n",
      "625/625 [==============================] - 6s 10ms/step - loss: 0.6044 - accuracy: 0.6535 - val_loss: 0.4913 - val_accuracy: 0.7726\n",
      "Epoch 2/10\n",
      "625/625 [==============================] - 6s 10ms/step - loss: 0.4503 - accuracy: 0.7987 - val_loss: 0.4484 - val_accuracy: 0.7996\n",
      "Epoch 3/10\n",
      "625/625 [==============================] - 6s 10ms/step - loss: 0.3969 - accuracy: 0.8285 - val_loss: 0.4243 - val_accuracy: 0.8122\n",
      "Epoch 4/10\n",
      "625/625 [==============================] - 6s 10ms/step - loss: 0.3622 - accuracy: 0.8478 - val_loss: 0.4279 - val_accuracy: 0.8108\n",
      "Epoch 5/10\n",
      "625/625 [==============================] - 6s 10ms/step - loss: 0.3386 - accuracy: 0.8594 - val_loss: 0.4430 - val_accuracy: 0.7994\n",
      "Epoch 6/10\n",
      "625/625 [==============================] - 6s 10ms/step - loss: 0.3175 - accuracy: 0.8701 - val_loss: 0.4503 - val_accuracy: 0.8064\n",
      "Epoch 7/10\n",
      "625/625 [==============================] - 6s 10ms/step - loss: 0.2949 - accuracy: 0.8801 - val_loss: 0.4539 - val_accuracy: 0.8130\n",
      "Epoch 8/10\n",
      "625/625 [==============================] - 6s 10ms/step - loss: 0.2785 - accuracy: 0.8895 - val_loss: 0.4710 - val_accuracy: 0.8144\n",
      "Epoch 9/10\n",
      "625/625 [==============================] - 6s 10ms/step - loss: 0.2990 - accuracy: 0.8802 - val_loss: 0.4846 - val_accuracy: 0.8092\n",
      "Epoch 10/10\n",
      "625/625 [==============================] - 6s 10ms/step - loss: 0.2582 - accuracy: 0.8981 - val_loss: 0.5258 - val_accuracy: 0.7780\n"
     ]
    }
   ],
   "source": [
    "model_ebd.compile(optimizer='adam', loss='binary_crossentropy', metrics=['accuracy'])\n",
    "\n",
    "history=model_ebd.fit(x_train_seq, y_train, epochs=10, batch_size=32, \n",
    "                      validation_data=(x_val_seq, y_val))"
   ]
  },
  {
   "cell_type": "markdown",
   "metadata": {
    "colab_type": "text",
    "id": "2PLTL3jMYoau"
   },
   "source": [
    "# 모형 훈련 결과 시각화하기 "
   ]
  },
  {
   "cell_type": "code",
   "execution_count": 11,
   "metadata": {
    "colab": {
     "base_uri": "https://localhost:8080/",
     "height": 265
    },
    "colab_type": "code",
    "executionInfo": {
     "elapsed": 1267,
     "status": "ok",
     "timestamp": 1573877494435,
     "user": {
      "displayName": "이선화",
      "photoUrl": "https://lh3.googleusercontent.com/a-/AAuE7mAaVHDHE1MIY1LHmJ_yWOBQMBjk_0EAJ4f0eWo-=s64",
      "userId": "17814374716323603424"
     },
     "user_tz": -540
    },
    "id": "lHDstQ1jZdDW",
    "outputId": "f64add38-7486-4ee7-f134-427309426e36"
   },
   "outputs": [
    {
     "data": {
      "image/png": "[encoded data removed]",
      "text/plain": [
       "<Figure size 432x288 with 1 Axes>"
      ]
     },
     "metadata": {
      "needs_background": "light"
     },
     "output_type": "display_data"
    }
   ],
   "source": [
    "import matplotlib.pyplot as plt\n",
    "%matplotlib inline\n",
    "\n",
    "plt.plot(history.history['loss'], label='Train Loss')\n",
    "plt.plot(history.history['val_loss'], label='Validation Loss')\n",
    "plt.legend()\n",
    "plt.show()"
   ]
  },
  {
   "cell_type": "code",
   "execution_count": 12,
   "metadata": {
    "colab": {
     "base_uri": "https://localhost:8080/",
     "height": 265
    },
    "colab_type": "code",
    "executionInfo": {
     "elapsed": 1385,
     "status": "ok",
     "timestamp": 1573877498625,
     "user": {
      "displayName": "이선화",
      "photoUrl": "https://lh3.googleusercontent.com/a-/AAuE7mAaVHDHE1MIY1LHmJ_yWOBQMBjk_0EAJ4f0eWo-=s64",
      "userId": "17814374716323603424"
     },
     "user_tz": -540
    },
    "id": "QgbQO65BZbMP",
    "outputId": "e21847be-7eb6-4e59-8ba5-b05caa781623"
   },
   "outputs": [
    {
     "data": {
      "image/png": "[encoded data removed]",
      "text/plain": [
       "<Figure size 432x288 with 1 Axes>"
      ]
     },
     "metadata": {
      "needs_background": "light"
     },
     "output_type": "display_data"
    }
   ],
   "source": [
    "plt.plot(history.history['accuracy'], label='Train Accuracy')\n",
    "plt.plot(history.history['val_accuracy'], label='Validation Accuracy')\n",
    "plt.legend()\n",
    "plt.show()"
   ]
  },
  {
   "cell_type": "markdown",
   "metadata": {
    "colab_type": "text",
    "id": "zhQHsThsYj9L"
   },
   "source": [
    "# 모형의 평가\n",
    "\n",
    "원-핫 인코딩 방식을 사용하지 않아 메모리 사용량이 절감된다. 또 rnn의 cell 갯수를 줄여도 더 높은 성능을 보였다. \n",
    "\n",
    "워드 임베딩 방식이 효율적이고 성능이 뛰어나기 때문에 텍스트 처리를 할 때는 워드 임베딩 층이 기본적으로 사용된다. "
   ]
  },
  {
   "cell_type": "code",
   "execution_count": 13,
   "metadata": {
    "colab": {
     "base_uri": "https://localhost:8080/",
     "height": 72
    },
    "colab_type": "code",
    "executionInfo": {
     "elapsed": 1905,
     "status": "ok",
     "timestamp": 1573877679541,
     "user": {
      "displayName": "이선화",
      "photoUrl": "https://lh3.googleusercontent.com/a-/AAuE7mAaVHDHE1MIY1LHmJ_yWOBQMBjk_0EAJ4f0eWo-=s64",
      "userId": "17814374716323603424"
     },
     "user_tz": -540
    },
    "id": "GmQyZK_rYhnH",
    "outputId": "3cad88b0-587d-40d9-c700-e5f0a1e87c60"
   },
   "outputs": [
    {
     "name": "stdout",
     "output_type": "stream",
     "text": [
      "0.777999997138977\n"
     ]
    }
   ],
   "source": [
    "loss, acc = model_ebd.evaluate(x_val_seq, y_val, verbose=0)\n",
    "print(acc)"
   ]
  }
 ],
 "metadata": {
  "colab": {
   "collapsed_sections": [],
   "name": "WordEmbedding.ipynb",
   "provenance": []
  },
  "kernelspec": {
   "display_name": "Python 3",
   "language": "python",
   "name": "python3"
  },
  "language_info": {
   "codemirror_mode": {
    "name": "ipython",
    "version": 3
   },
   "file_extension": ".py",
   "mimetype": "text/x-python",
   "name": "python",
   "nbconvert_exporter": "python",
   "pygments_lexer": "ipython3",
   "version": "3.7.6"
  }
 },
 "nbformat": 4,
 "nbformat_minor": 1
}
